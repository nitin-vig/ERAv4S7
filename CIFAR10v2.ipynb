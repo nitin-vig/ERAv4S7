{
  "cells": [
    {
      "cell_type": "markdown",
      "metadata": {
        "id": "view-in-github",
        "colab_type": "text"
      },
      "source": [
        "<a href=\"https://colab.research.google.com/github/nitin-vig/ERAv4S7/blob/main/CIFAR10v2.ipynb\" target=\"_parent\"><img src=\"https://colab.research.google.com/assets/colab-badge.svg\" alt=\"Open In Colab\"/></a>"
      ]
    },
    {
      "cell_type": "code",
      "execution_count": null,
      "metadata": {
        "id": "cOSlh9n4c-hH"
      },
      "outputs": [],
      "source": []
    },
    {
      "cell_type": "markdown",
      "metadata": {
        "id": "u-GYmfW8dGpQ"
      },
      "source": []
    },
    {
      "cell_type": "markdown",
      "metadata": {
        "id": "XC8UX7LDdHa0"
      },
      "source": [
        "\n",
        "\n",
        "\n",
        "# Cifar10 dataset with 85% test accuracy."
      ]
    },
    {
      "cell_type": "markdown",
      "metadata": {
        "id": "7XzvJLus2WJ2"
      },
      "source": []
    },
    {
      "cell_type": "code",
      "execution_count": 1,
      "metadata": {
        "id": "UxaYbdi2dLBO"
      },
      "outputs": [],
      "source": [
        "from __future__ import print_function\n",
        "import torch\n",
        "import torch.nn as nn\n",
        "import torch.nn.functional as F\n",
        "import torch.optim as optim\n",
        "from torchvision import datasets, transforms\n",
        "from matplotlib import pyplot as plt\n",
        "import albumentations as A\n",
        "from albumentations.pytorch import ToTensorV2\n",
        "import numpy as np"
      ]
    },
    {
      "cell_type": "markdown",
      "metadata": {
        "id": "g4fYw485T0IV"
      },
      "source": [
        "**Compute Mean and Standard Deviation for Normalization of data**. Commented as it is needed only once"
      ]
    },
    {
      "cell_type": "code",
      "execution_count": 1,
      "metadata": {
        "id": "-A43tRpdTzmU"
      },
      "outputs": [],
      "source": []
    },
    {
      "cell_type": "code",
      "execution_count": 2,
      "metadata": {
        "id": "Uei6QCR0TD6V"
      },
      "outputs": [],
      "source": [
        "# import torch\n",
        "# from torchvision import datasets, transforms\n",
        "# from torch.utils.data import DataLoader\n",
        "# from tqdm import tqdm\n",
        "\n",
        "# def get_mean_and_std(dataloader):\n",
        "#     \"\"\"\n",
        "#     Calculate the mean and standard deviation of a dataset.\n",
        "\n",
        "#     Args:\n",
        "#         dataloader (DataLoader): The DataLoader for the dataset.\n",
        "\n",
        "#     Returns:\n",
        "#         tuple: The mean and standard deviation tensors for each channel.\n",
        "#     \"\"\"\n",
        "#     channels_sum, channels_squared_sum, num_batches = 0, 0, 0\n",
        "#     for data, _ in tqdm(dataloader, desc=\"Calculating mean and std\"):\n",
        "#         # Mean over batch, height, and width, but not over the channels\n",
        "#         channels_sum += torch.mean(data, dim=[0, 2, 3])\n",
        "#         channels_squared_sum += torch.mean(data**2, dim=[0, 2, 3])\n",
        "#         num_batches += 1\n",
        "\n",
        "#     mean = channels_sum / num_batches\n",
        "#     # Std = sqrt(E[X^2] - (E[X])^2)\n",
        "#     std = (channels_squared_sum / num_batches - mean ** 2) ** 0.5\n",
        "#     return mean, std\n",
        "\n",
        "# # 1. Load the dataset without normalization (only convert to tensor)\n",
        "# # This will automatically download the dataset if it's not present\n",
        "# transform = transforms.Compose([transforms.ToTensor()])\n",
        "# train_dataset = datasets.CIFAR10(root='./data', train=True, download=True, transform=transform)\n",
        "\n",
        "# # 2. Create a DataLoader\n",
        "# train_loader = DataLoader(train_dataset, batch_size=128, shuffle=False)\n",
        "\n",
        "# # 3. Get the mean and standard deviation\n",
        "# mean, std = get_mean_and_std(train_loader)\n",
        "\n",
        "# print('Calculated Mean:', mean)\n",
        "# print('Calculated Standard Deviation:', std)\n",
        "\n",
        "# 100%|██████████| 170M/170M [00:13<00:00, 12.4MB/s]\n",
        "# Calculating mean and std: 100%|██████████| 391/391 [00:06<00:00, 61.66it/s]\n",
        "# Calculated Mean: tensor([0.4914, 0.4822, 0.4465])\n",
        "# Calculated Standard Deviation: tensor([0.2470, 0.2435, 0.2616])"
      ]
    },
    {
      "cell_type": "code",
      "execution_count": 3,
      "metadata": {
        "colab": {
          "base_uri": "https://localhost:8080/"
        },
        "id": "RLvCZKLp7lh2",
        "outputId": "a63ef98e-1a0b-4c6b-d026-1c6dcaca4c81"
      },
      "outputs": [
        {
          "output_type": "stream",
          "name": "stderr",
          "text": [
            "/usr/local/lib/python3.12/dist-packages/albumentations/core/validation.py:114: UserWarning: ShiftScaleRotate is a special case of Affine transform. Please use Affine transform instead.\n",
            "  original_init(self, **validated_kwargs)\n",
            "/tmp/ipython-input-817236643.py:18: UserWarning: Argument(s) 'num_holes, max_h_size, max_w_size, fill_value' are not valid for transform CoarseDropout\n",
            "  A.CoarseDropout(\n"
          ]
        }
      ],
      "source": [
        "# Train Phase transformations\n",
        "# train_transforms = transforms.Compose([\n",
        "\n",
        "#                                        transforms.ToTensor(),\n",
        "#                                        transforms.Normalize((0.4914, 0.4822, 0.4465), (0.2470, 0.2435, 0.2616),), # The mean and std have to be sequences (e.g., tuples), therefore you should add a comma after the values.\n",
        "#                                        A.CoarseDropout(num_holes_range=(1,1),hole_height_range=(16,16),hole_width_range=(16,16),p=0.5),\n",
        "#                                        A.HorizontalFlip(0.5),\n",
        "#                                        A.ShiftScaleRotate(shift_limit=1,scale_limit=1,rotate_limit=1,p=0.5)\n",
        "#                                        ])\n",
        "# Define your Albumentations pipeline\n",
        "albumentations_transforms = A.Compose([\n",
        "    A.Normalize(\n",
        "        mean=(0.4914, 0.4822, 0.4465),\n",
        "        std=(0.2470, 0.2435, 0.2616),\n",
        "    ),\n",
        "    A.HorizontalFlip(0.5),\n",
        "    A.ShiftScaleRotate(shift_limit=1,scale_limit=1,rotate_limit=1,p=0.5),\n",
        "    A.CoarseDropout(\n",
        "        num_holes=1,\n",
        "        max_h_size=16,\n",
        "        max_w_size=16,\n",
        "        fill_value=0.4822,\n",
        "        p=0.5\n",
        "    ),\n",
        "    ToTensorV2(),\n",
        "])\n",
        "\n",
        "# Use a lambda to wrap the Albumentations call\n",
        "train_transforms = lambda img: albumentations_transforms(image=np.array(img))['image']\n",
        "\n",
        "\n",
        "# Test Phase transformations\n",
        "test_transforms = transforms.Compose([\n",
        "                                       transforms.ToTensor(),\n",
        "                                       transforms.Normalize((0.4914, 0.4822, 0.4465), (0.2470, 0.2435, 0.2616)),\n",
        "                                       ])"
      ]
    },
    {
      "cell_type": "code",
      "execution_count": 4,
      "metadata": {
        "id": "TRawLqCH7p0I",
        "colab": {
          "base_uri": "https://localhost:8080/"
        },
        "outputId": "2b078a46-cd44-4788-894d-d83f2ecd61c4"
      },
      "outputs": [
        {
          "output_type": "stream",
          "name": "stderr",
          "text": [
            "100%|██████████| 170M/170M [00:41<00:00, 4.12MB/s]\n"
          ]
        }
      ],
      "source": [
        "train = datasets.CIFAR10('./data', train=True, download=True, transform=train_transforms)\n",
        "test = datasets.CIFAR10('./data', train=False, download=True, transform=test_transforms)"
      ]
    },
    {
      "cell_type": "code",
      "execution_count": 4,
      "metadata": {
        "id": "iK8DvS4FSnSa"
      },
      "outputs": [],
      "source": []
    },
    {
      "cell_type": "code",
      "execution_count": 5,
      "metadata": {
        "colab": {
          "base_uri": "https://localhost:8080/"
        },
        "id": "H8PoAAuI7vNO",
        "outputId": "3c1223a8-3a56-458c-9409-35bbed16642f"
      },
      "outputs": [
        {
          "output_type": "stream",
          "name": "stdout",
          "text": [
            "CUDA Available? True\n"
          ]
        },
        {
          "output_type": "stream",
          "name": "stderr",
          "text": [
            "/usr/local/lib/python3.12/dist-packages/torch/utils/data/dataloader.py:627: UserWarning: This DataLoader will create 4 worker processes in total. Our suggested max number of worker in current system is 2, which is smaller than what this DataLoader is going to create. Please be aware that excessive worker creation might get DataLoader running slow or even freeze, lower the worker number to avoid potential slowness/freeze if necessary.\n",
            "  warnings.warn(\n"
          ]
        }
      ],
      "source": [
        "SEED = 1\n",
        "\n",
        "# CUDA?\n",
        "cuda = torch.cuda.is_available()\n",
        "print(\"CUDA Available?\", cuda)\n",
        "\n",
        "# For reproducibility\n",
        "torch.manual_seed(SEED)\n",
        "\n",
        "if cuda:\n",
        "    torch.cuda.manual_seed(SEED)\n",
        "\n",
        "# dataloader arguments - something you'll fetch these from cmdprmt\n",
        "dataloader_args = dict(shuffle=True, batch_size=256, num_workers=4, pin_memory=True) if cuda else dict(shuffle=True, batch_size=64)\n",
        "\n",
        "# train dataloader\n",
        "train_loader = torch.utils.data.DataLoader(train, **dataloader_args)\n",
        "\n",
        "# test dataloader\n",
        "test_loader = torch.utils.data.DataLoader(test, **dataloader_args)"
      ]
    },
    {
      "cell_type": "code",
      "execution_count": 6,
      "metadata": {
        "colab": {
          "base_uri": "https://localhost:8080/",
          "height": 619
        },
        "id": "N8m3tkcbwa_c",
        "outputId": "57630609-bcc9-4b6a-bcbb-185e9e86a750"
      },
      "outputs": [
        {
          "output_type": "stream",
          "name": "stderr",
          "text": [
            "WARNING:matplotlib.image:Clipping input data to the valid range for imshow with RGB data ([0..1] for floats or [0..255] for integers). Got range [0.0..1.7199774].\n",
            "WARNING:matplotlib.image:Clipping input data to the valid range for imshow with RGB data ([0..1] for floats or [0..255] for integers). Got range [-1.4752142..1.640319].\n",
            "WARNING:matplotlib.image:Clipping input data to the valid range for imshow with RGB data ([0..1] for floats or [0..255] for integers). Got range [-1.95772..2.0942788].\n",
            "WARNING:matplotlib.image:Clipping input data to the valid range for imshow with RGB data ([0..1] for floats or [0..255] for integers). Got range [-1.2716674..2.1158257].\n",
            "WARNING:matplotlib.image:Clipping input data to the valid range for imshow with RGB data ([0..1] for floats or [0..255] for integers). Got range [-1.7669277..2.0802228].\n",
            "WARNING:matplotlib.image:Clipping input data to the valid range for imshow with RGB data ([0..1] for floats or [0..255] for integers). Got range [-1.9418433..2.1158257].\n",
            "WARNING:matplotlib.image:Clipping input data to the valid range for imshow with RGB data ([0..1] for floats or [0..255] for integers). Got range [-1.8465825..1.1264391].\n",
            "WARNING:matplotlib.image:Clipping input data to the valid range for imshow with RGB data ([0..1] for floats or [0..255] for integers). Got range [-1.5653293..0.0].\n",
            "WARNING:matplotlib.image:Clipping input data to the valid range for imshow with RGB data ([0..1] for floats or [0..255] for integers). Got range [-1.9597046..2.1209528].\n"
          ]
        },
        {
          "output_type": "display_data",
          "data": {
            "text/plain": [
              "<Figure size 640x480 with 12 Axes>"
            ],
            "image/png": "[encoded data removed]"
          },
          "metadata": {}
        }
      ],
      "source": [
        "import matplotlib.pyplot as plt\n",
        "\n",
        "batch_data, batch_label = next(iter(train_loader))\n",
        "\n",
        "fig = plt.figure()\n",
        "\n",
        "for i in range(12):\n",
        "  plt.subplot(3,4,i+1)\n",
        "  plt.tight_layout()\n",
        "  # plt.imshow(batch_data[i].squeeze(0), cmap='gray')\n",
        "  plt.imshow(batch_data[i].permute(1,2,0))\n",
        "\n",
        "  plt.title(batch_label[i].item())\n",
        "  plt.xticks([])\n",
        "  plt.yticks([])"
      ]
    },
    {
      "cell_type": "code",
      "execution_count": 7,
      "metadata": {
        "id": "gr757vIC7-Rt"
      },
      "outputs": [],
      "source": [
        "class Net(nn.Module):\n",
        "    def __init__(self):\n",
        "        super(Net, self).__init__()\n",
        "\n",
        "        # Define the multiple-layer convolutional block\n",
        "        self.conv_block1 = nn.Sequential(nn.Conv2d(3, 16, 3, padding=16), # input size=64 , RF = 3, outputsize=62, Jout =1,\n",
        "                                    nn.ReLU(), nn.BatchNorm2d(16),\n",
        "\n",
        "                                    nn.Conv2d(16, 16, 3, padding=0),      # input size=62 , RF = 5, outputsize=60, Jout =1\n",
        "                                    nn.ReLU(),nn.BatchNorm2d(16),\n",
        "\n",
        "                                    # nn.Conv2d(16, 32, 3, padding=0),      # input size=60 , RF = 7, outputsize=58, Jout =1\n",
        "                                    # This Depthwise Convolution reduced the params by 4k and can be replicated in other places in the model\n",
        "                                    nn.Conv2d(16, 16, 3, padding=0, groups=16),\n",
        "                                    nn.Conv2d(16, 32, kernel_size=1, bias=False),\n",
        "                                    nn.ReLU(), nn.BatchNorm2d(32),\n",
        "\n",
        "\n",
        "                                    nn.Conv2d(32, 64, 3, padding=0, stride=2),# input size=58 , RF = 9, outputsize=28, Jout=2\n",
        "                                    nn.ReLU(),nn.BatchNorm2d(64),\n",
        "                                  )\n",
        "\n",
        "\n",
        "        self.conv_block2 = nn.Sequential(nn.Conv2d(in_channels=64, out_channels=16, kernel_size=(1, 1), padding=0, bias=False),\n",
        "                                    nn.BatchNorm2d(16)) # input size=28 , RF = 9, outputsize=28, Jout=2\n",
        "\n",
        "        self.conv_block3 = nn.Sequential(nn.Conv2d(16, 32, 3, padding=0),# input size=28 , RF = 13, outputsize=26,Jout=2\n",
        "                                    nn.ReLU(),nn.BatchNorm2d(32),\n",
        "\n",
        "                                    nn.Conv2d(32, 64, 3, padding=0,dilation=2),# input size=26 , RF = 21, outputsize=22, Jout=2 # dilation of 2~ 5x5 kernel\n",
        "                                    nn.ReLU(),nn.BatchNorm2d(64),\n",
        "\n",
        "                                    nn.Conv2d(64, 64, 3, stride=2,padding=1),# input size=22 , RF = 25, outputsize=11, Jout=4\n",
        "                                    nn.ReLU(),nn.BatchNorm2d(64),\n",
        "                                    )\n",
        "\n",
        "        self.conv_block4 = nn.Sequential(\n",
        "                                    nn.Conv2d(64, 32, 3),# input size=11 , RF = 33, outputsize=9, Jout=4\n",
        "                                    nn.ReLU(),nn.BatchNorm2d(32),\n",
        "\n",
        "                                    nn.Conv2d(32, 32, 3),# input size=9 , RF = 41, outputsize=7, Jout=4\n",
        "                                    nn.ReLU(),nn.BatchNorm2d(32),\n",
        "\n",
        "                                    nn.Conv2d(32, 16, 3),# input size=7 , RF = 49, outputsize=5, Jout=4\n",
        "                                    nn.ReLU(),nn.BatchNorm2d(16),\n",
        "\n",
        "                                    nn.Conv2d(in_channels=16, out_channels=10, kernel_size=(1, 1), padding=0, bias=False),\n",
        "                                    nn.BatchNorm2d(10),\n",
        "                                    nn.AvgPool2d(kernel_size=5)\n",
        "                                    )\n",
        "\n",
        "    def forward(self, x):\n",
        "        # Block 1\n",
        "        x = self.conv_block1(x)\n",
        "        x = self.conv_block2(x)\n",
        "        x = self.conv_block3(x)\n",
        "        x = self.conv_block4(x)\n",
        "        x = x.view(-1, 10)\n",
        "        return F.log_softmax(x, dim=-1)"
      ]
    },
    {
      "cell_type": "code",
      "execution_count": 8,
      "metadata": {
        "colab": {
          "base_uri": "https://localhost:8080/"
        },
        "id": "Pe9JSzWI8B_v",
        "outputId": "a7568335-6c81-4bea-c7e7-b6e88bc689e5"
      },
      "outputs": [
        {
          "output_type": "stream",
          "name": "stdout",
          "text": [
            "Requirement already satisfied: torchsummary in /usr/local/lib/python3.12/dist-packages (1.5.1)\n",
            "cuda\n",
            "----------------------------------------------------------------\n",
            "        Layer (type)               Output Shape         Param #\n",
            "================================================================\n",
            "            Conv2d-1           [-1, 16, 62, 62]             448\n",
            "              ReLU-2           [-1, 16, 62, 62]               0\n",
            "       BatchNorm2d-3           [-1, 16, 62, 62]              32\n",
            "            Conv2d-4           [-1, 16, 60, 60]           2,320\n",
            "              ReLU-5           [-1, 16, 60, 60]               0\n",
            "       BatchNorm2d-6           [-1, 16, 60, 60]              32\n",
            "            Conv2d-7           [-1, 16, 58, 58]             160\n",
            "            Conv2d-8           [-1, 32, 58, 58]             512\n",
            "              ReLU-9           [-1, 32, 58, 58]               0\n",
            "      BatchNorm2d-10           [-1, 32, 58, 58]              64\n",
            "           Conv2d-11           [-1, 64, 28, 28]          18,496\n",
            "             ReLU-12           [-1, 64, 28, 28]               0\n",
            "      BatchNorm2d-13           [-1, 64, 28, 28]             128\n",
            "           Conv2d-14           [-1, 16, 28, 28]           1,024\n",
            "      BatchNorm2d-15           [-1, 16, 28, 28]              32\n",
            "           Conv2d-16           [-1, 32, 26, 26]           4,640\n",
            "             ReLU-17           [-1, 32, 26, 26]               0\n",
            "      BatchNorm2d-18           [-1, 32, 26, 26]              64\n",
            "           Conv2d-19           [-1, 64, 22, 22]          18,496\n",
            "             ReLU-20           [-1, 64, 22, 22]               0\n",
            "      BatchNorm2d-21           [-1, 64, 22, 22]             128\n",
            "           Conv2d-22           [-1, 64, 11, 11]          36,928\n",
            "             ReLU-23           [-1, 64, 11, 11]               0\n",
            "      BatchNorm2d-24           [-1, 64, 11, 11]             128\n",
            "           Conv2d-25             [-1, 32, 9, 9]          18,464\n",
            "             ReLU-26             [-1, 32, 9, 9]               0\n",
            "      BatchNorm2d-27             [-1, 32, 9, 9]              64\n",
            "           Conv2d-28             [-1, 32, 7, 7]           9,248\n",
            "             ReLU-29             [-1, 32, 7, 7]               0\n",
            "      BatchNorm2d-30             [-1, 32, 7, 7]              64\n",
            "           Conv2d-31             [-1, 16, 5, 5]           4,624\n",
            "             ReLU-32             [-1, 16, 5, 5]               0\n",
            "      BatchNorm2d-33             [-1, 16, 5, 5]              32\n",
            "           Conv2d-34             [-1, 10, 5, 5]             160\n",
            "      BatchNorm2d-35             [-1, 10, 5, 5]              20\n",
            "        AvgPool2d-36             [-1, 10, 1, 1]               0\n",
            "================================================================\n",
            "Total params: 116,308\n",
            "Trainable params: 116,308\n",
            "Non-trainable params: 0\n",
            "----------------------------------------------------------------\n",
            "Input size (MB): 0.01\n",
            "Forward/backward pass size (MB): 8.43\n",
            "Params size (MB): 0.44\n",
            "Estimated Total Size (MB): 8.89\n",
            "----------------------------------------------------------------\n"
          ]
        }
      ],
      "source": [
        "!pip install torchsummary\n",
        "from torchsummary import summary\n",
        "use_cuda = torch.cuda.is_available()\n",
        "device = torch.device(\"cuda\" if use_cuda else \"cpu\")\n",
        "print(device)\n",
        "model = Net().to(device)\n",
        "summary(model, input_size=(3, 32, 32))"
      ]
    },
    {
      "cell_type": "code",
      "execution_count": 9,
      "metadata": {
        "id": "ZdpG6H_54ONE"
      },
      "outputs": [],
      "source": [
        "\n",
        "model = Net().to(device)\n",
        "optimizer = optim.SGD(model.parameters(), lr=0.01, momentum=0.9)\n",
        "scheduler = torch.optim.lr_scheduler.StepLR(optimizer, step_size=40, gamma=0.1) ## Learning: adjust LR to a smaller value after every 5 epochs for fine tuning"
      ]
    },
    {
      "cell_type": "code",
      "execution_count": 9,
      "metadata": {
        "id": "imHnmYf6RccL"
      },
      "outputs": [],
      "source": []
    },
    {
      "cell_type": "code",
      "execution_count": 10,
      "metadata": {
        "id": "x-ia4Qeg8rOD"
      },
      "outputs": [],
      "source": [
        "from tqdm import tqdm\n",
        "\n",
        "train_losses = []\n",
        "test_losses = []\n",
        "train_acc = []\n",
        "test_acc = []\n",
        "\n",
        "def train(model, device, train_loader, optimizer, epoch):\n",
        "  model.train()\n",
        "  pbar = tqdm(train_loader)\n",
        "  correct = 0\n",
        "  processed = 0\n",
        "  for batch_idx, (data, target) in enumerate(pbar):\n",
        "    # get samples\n",
        "    data, target = data.to(device), target.to(device)\n",
        "\n",
        "    # Init\n",
        "    optimizer.zero_grad()\n",
        "    # In PyTorch, we need to set the gradients to zero before starting to do backpropragation because PyTorch accumulates the gradients on subsequent backward passes.\n",
        "    # Because of this, when you start your training loop, ideally you should zero out the gradients so that you do the parameter update correctly.\n",
        "\n",
        "    # Predict\n",
        "    y_pred = model(data)\n",
        "\n",
        "    # Calculate loss\n",
        "    loss = F.nll_loss(y_pred, target)\n",
        "    train_losses.append(loss)\n",
        "\n",
        "    # Backpropagation\n",
        "    loss.backward()\n",
        "    optimizer.step()\n",
        "\n",
        "    # Update pbar-tqdm\n",
        "\n",
        "    pred = y_pred.argmax(dim=1, keepdim=True)  # get the index of the max log-probability\n",
        "    correct += pred.eq(target.view_as(pred)).sum().item()\n",
        "    processed += len(data)\n",
        "\n",
        "    pbar.set_description(desc= f'Loss={loss.item()} Batch_id={batch_idx} Accuracy={100*correct/processed:0.2f}')\n",
        "    train_acc.append(100*correct/processed)\n",
        "\n",
        "  # Update the learning rate\n",
        "  scheduler.step()\n",
        "\n",
        "\n",
        "def test(model, device, test_loader):\n",
        "    model.eval()\n",
        "    test_loss = 0\n",
        "    correct = 0\n",
        "    with torch.no_grad():\n",
        "        for data, target in test_loader:\n",
        "            data, target = data.to(device), target.to(device)\n",
        "            output = model(data)\n",
        "            test_loss += F.nll_loss(output, target, reduction='sum').item()  # sum up batch loss\n",
        "            pred = output.argmax(dim=1, keepdim=True)  # get the index of the max log-probability\n",
        "            correct += pred.eq(target.view_as(pred)).sum().item()\n",
        "\n",
        "    test_loss /= len(test_loader.dataset)\n",
        "    test_losses.append(test_loss)\n",
        "\n",
        "    print('\\nTest set: Average loss: {:.4f}, Accuracy: {}/{} ({:.2f}%)\\n'.format(\n",
        "        test_loss, correct, len(test_loader.dataset),\n",
        "        100. * correct / len(test_loader.dataset)))\n",
        "\n",
        "    test_acc.append(100. * correct / len(test_loader.dataset))"
      ]
    },
    {
      "cell_type": "code",
      "execution_count": 10,
      "metadata": {
        "id": "KP6zxmOEaOvv"
      },
      "outputs": [],
      "source": []
    },
    {
      "cell_type": "code",
      "execution_count": 11,
      "metadata": {
        "colab": {
          "base_uri": "https://localhost:8080/"
        },
        "id": "5vSFWk6-8vk2",
        "outputId": "bdae2ada-2fd9-45ec-a016-10215819950a"
      },
      "outputs": [
        {
          "output_type": "stream",
          "name": "stdout",
          "text": [
            "EPOCH: 1\n"
          ]
        },
        {
          "output_type": "stream",
          "name": "stderr",
          "text": [
            "Loss=1.83342707157135 Batch_id=195 Accuracy=26.84: 100%|██████████| 196/196 [00:22<00:00,  8.78it/s]\n"
          ]
        },
        {
          "output_type": "stream",
          "name": "stdout",
          "text": [
            "\n",
            "Test set: Average loss: 1.6016, Accuracy: 4161/10000 (41.61%)\n",
            "\n",
            "EPOCH: 2\n"
          ]
        },
        {
          "output_type": "stream",
          "name": "stderr",
          "text": [
            "Loss=1.73443603515625 Batch_id=195 Accuracy=34.99: 100%|██████████| 196/196 [00:22<00:00,  8.90it/s]\n"
          ]
        },
        {
          "output_type": "stream",
          "name": "stdout",
          "text": [
            "\n",
            "Test set: Average loss: 1.3833, Accuracy: 4991/10000 (49.91%)\n",
            "\n",
            "EPOCH: 3\n"
          ]
        },
        {
          "output_type": "stream",
          "name": "stderr",
          "text": [
            "Loss=1.597193956375122 Batch_id=195 Accuracy=38.90: 100%|██████████| 196/196 [00:26<00:00,  7.53it/s]\n"
          ]
        },
        {
          "output_type": "stream",
          "name": "stdout",
          "text": [
            "\n",
            "Test set: Average loss: 1.2108, Accuracy: 5808/10000 (58.08%)\n",
            "\n",
            "EPOCH: 4\n"
          ]
        },
        {
          "output_type": "stream",
          "name": "stderr",
          "text": [
            "Loss=1.6613438129425049 Batch_id=195 Accuracy=41.74: 100%|██████████| 196/196 [00:26<00:00,  7.31it/s]\n"
          ]
        },
        {
          "output_type": "stream",
          "name": "stdout",
          "text": [
            "\n",
            "Test set: Average loss: 1.0727, Accuracy: 6196/10000 (61.96%)\n",
            "\n",
            "EPOCH: 5\n"
          ]
        },
        {
          "output_type": "stream",
          "name": "stderr",
          "text": [
            "Loss=1.4254647493362427 Batch_id=195 Accuracy=43.78: 100%|██████████| 196/196 [00:23<00:00,  8.39it/s]\n"
          ]
        },
        {
          "output_type": "stream",
          "name": "stdout",
          "text": [
            "\n",
            "Test set: Average loss: 1.0536, Accuracy: 6245/10000 (62.45%)\n",
            "\n",
            "EPOCH: 6\n"
          ]
        },
        {
          "output_type": "stream",
          "name": "stderr",
          "text": [
            "Loss=1.3208380937576294 Batch_id=195 Accuracy=45.77: 100%|██████████| 196/196 [00:24<00:00,  8.08it/s]\n"
          ]
        },
        {
          "output_type": "stream",
          "name": "stdout",
          "text": [
            "\n",
            "Test set: Average loss: 0.9568, Accuracy: 6620/10000 (66.20%)\n",
            "\n",
            "EPOCH: 7\n"
          ]
        },
        {
          "output_type": "stream",
          "name": "stderr",
          "text": [
            "Loss=1.4379421472549438 Batch_id=195 Accuracy=47.07: 100%|██████████| 196/196 [00:22<00:00,  8.84it/s]\n"
          ]
        },
        {
          "output_type": "stream",
          "name": "stdout",
          "text": [
            "\n",
            "Test set: Average loss: 0.8946, Accuracy: 6902/10000 (69.02%)\n",
            "\n",
            "EPOCH: 8\n"
          ]
        },
        {
          "output_type": "stream",
          "name": "stderr",
          "text": [
            "Loss=1.4439547061920166 Batch_id=195 Accuracy=48.49: 100%|██████████| 196/196 [00:24<00:00,  7.94it/s]\n"
          ]
        },
        {
          "output_type": "stream",
          "name": "stdout",
          "text": [
            "\n",
            "Test set: Average loss: 0.9504, Accuracy: 6712/10000 (67.12%)\n",
            "\n",
            "EPOCH: 9\n"
          ]
        },
        {
          "output_type": "stream",
          "name": "stderr",
          "text": [
            "Loss=1.5654306411743164 Batch_id=195 Accuracy=49.36: 100%|██████████| 196/196 [00:22<00:00,  8.66it/s]\n"
          ]
        },
        {
          "output_type": "stream",
          "name": "stdout",
          "text": [
            "\n",
            "Test set: Average loss: 0.8286, Accuracy: 7102/10000 (71.02%)\n",
            "\n",
            "EPOCH: 10\n"
          ]
        },
        {
          "output_type": "stream",
          "name": "stderr",
          "text": [
            "Loss=1.4109079837799072 Batch_id=195 Accuracy=50.06: 100%|██████████| 196/196 [00:21<00:00,  8.91it/s]\n"
          ]
        },
        {
          "output_type": "stream",
          "name": "stdout",
          "text": [
            "\n",
            "Test set: Average loss: 0.7573, Accuracy: 7400/10000 (74.00%)\n",
            "\n",
            "EPOCH: 11\n"
          ]
        },
        {
          "output_type": "stream",
          "name": "stderr",
          "text": [
            "Loss=1.415095567703247 Batch_id=195 Accuracy=50.84: 100%|██████████| 196/196 [00:21<00:00,  9.20it/s]\n"
          ]
        },
        {
          "output_type": "stream",
          "name": "stdout",
          "text": [
            "\n",
            "Test set: Average loss: 0.7956, Accuracy: 7206/10000 (72.06%)\n",
            "\n",
            "EPOCH: 12\n"
          ]
        },
        {
          "output_type": "stream",
          "name": "stderr",
          "text": [
            "Loss=1.3733117580413818 Batch_id=195 Accuracy=51.46: 100%|██████████| 196/196 [00:21<00:00,  9.03it/s]\n"
          ]
        },
        {
          "output_type": "stream",
          "name": "stdout",
          "text": [
            "\n",
            "Test set: Average loss: 0.7476, Accuracy: 7418/10000 (74.18%)\n",
            "\n",
            "EPOCH: 13\n"
          ]
        },
        {
          "output_type": "stream",
          "name": "stderr",
          "text": [
            "Loss=1.2828246355056763 Batch_id=195 Accuracy=52.09: 100%|██████████| 196/196 [00:21<00:00,  9.30it/s]\n"
          ]
        },
        {
          "output_type": "stream",
          "name": "stdout",
          "text": [
            "\n",
            "Test set: Average loss: 0.7403, Accuracy: 7461/10000 (74.61%)\n",
            "\n",
            "EPOCH: 14\n"
          ]
        },
        {
          "output_type": "stream",
          "name": "stderr",
          "text": [
            "Loss=1.376019835472107 Batch_id=195 Accuracy=52.12: 100%|██████████| 196/196 [00:22<00:00,  8.90it/s]\n"
          ]
        },
        {
          "output_type": "stream",
          "name": "stdout",
          "text": [
            "\n",
            "Test set: Average loss: 0.6835, Accuracy: 7641/10000 (76.41%)\n",
            "\n",
            "EPOCH: 15\n"
          ]
        },
        {
          "output_type": "stream",
          "name": "stderr",
          "text": [
            "Loss=1.3283474445343018 Batch_id=195 Accuracy=53.05: 100%|██████████| 196/196 [00:22<00:00,  8.81it/s]\n"
          ]
        },
        {
          "output_type": "stream",
          "name": "stdout",
          "text": [
            "\n",
            "Test set: Average loss: 0.7145, Accuracy: 7529/10000 (75.29%)\n",
            "\n",
            "EPOCH: 16\n"
          ]
        },
        {
          "output_type": "stream",
          "name": "stderr",
          "text": [
            "Loss=1.289289951324463 Batch_id=195 Accuracy=53.31: 100%|██████████| 196/196 [00:21<00:00,  8.91it/s]\n"
          ]
        },
        {
          "output_type": "stream",
          "name": "stdout",
          "text": [
            "\n",
            "Test set: Average loss: 0.6880, Accuracy: 7689/10000 (76.89%)\n",
            "\n",
            "EPOCH: 17\n"
          ]
        },
        {
          "output_type": "stream",
          "name": "stderr",
          "text": [
            "Loss=1.3767726421356201 Batch_id=195 Accuracy=53.93: 100%|██████████| 196/196 [00:23<00:00,  8.50it/s]\n"
          ]
        },
        {
          "output_type": "stream",
          "name": "stdout",
          "text": [
            "\n",
            "Test set: Average loss: 0.6638, Accuracy: 7707/10000 (77.07%)\n",
            "\n",
            "EPOCH: 18\n"
          ]
        },
        {
          "output_type": "stream",
          "name": "stderr",
          "text": [
            "Loss=1.2433757781982422 Batch_id=195 Accuracy=53.82: 100%|██████████| 196/196 [00:21<00:00,  8.95it/s]\n"
          ]
        },
        {
          "output_type": "stream",
          "name": "stdout",
          "text": [
            "\n",
            "Test set: Average loss: 0.7229, Accuracy: 7521/10000 (75.21%)\n",
            "\n",
            "EPOCH: 19\n"
          ]
        },
        {
          "output_type": "stream",
          "name": "stderr",
          "text": [
            "Loss=1.2451550960540771 Batch_id=195 Accuracy=54.52: 100%|██████████| 196/196 [00:21<00:00,  8.94it/s]\n"
          ]
        },
        {
          "output_type": "stream",
          "name": "stdout",
          "text": [
            "\n",
            "Test set: Average loss: 0.6415, Accuracy: 7808/10000 (78.08%)\n",
            "\n",
            "EPOCH: 20\n"
          ]
        },
        {
          "output_type": "stream",
          "name": "stderr",
          "text": [
            "Loss=1.3235323429107666 Batch_id=195 Accuracy=54.48: 100%|██████████| 196/196 [00:21<00:00,  9.26it/s]\n"
          ]
        },
        {
          "output_type": "stream",
          "name": "stdout",
          "text": [
            "\n",
            "Test set: Average loss: 0.6692, Accuracy: 7693/10000 (76.93%)\n",
            "\n",
            "EPOCH: 21\n"
          ]
        },
        {
          "output_type": "stream",
          "name": "stderr",
          "text": [
            "Loss=1.180442452430725 Batch_id=195 Accuracy=54.97: 100%|██████████| 196/196 [00:21<00:00,  9.24it/s]\n"
          ]
        },
        {
          "output_type": "stream",
          "name": "stdout",
          "text": [
            "\n",
            "Test set: Average loss: 0.6249, Accuracy: 7862/10000 (78.62%)\n",
            "\n",
            "EPOCH: 22\n"
          ]
        },
        {
          "output_type": "stream",
          "name": "stderr",
          "text": [
            "Loss=1.1680704355239868 Batch_id=195 Accuracy=55.50: 100%|██████████| 196/196 [00:21<00:00,  9.05it/s]\n"
          ]
        },
        {
          "output_type": "stream",
          "name": "stdout",
          "text": [
            "\n",
            "Test set: Average loss: 0.6001, Accuracy: 7964/10000 (79.64%)\n",
            "\n",
            "EPOCH: 23\n"
          ]
        },
        {
          "output_type": "stream",
          "name": "stderr",
          "text": [
            "Loss=1.09671151638031 Batch_id=195 Accuracy=55.54: 100%|██████████| 196/196 [00:21<00:00,  8.92it/s]\n"
          ]
        },
        {
          "output_type": "stream",
          "name": "stdout",
          "text": [
            "\n",
            "Test set: Average loss: 0.6060, Accuracy: 7926/10000 (79.26%)\n",
            "\n",
            "EPOCH: 24\n"
          ]
        },
        {
          "output_type": "stream",
          "name": "stderr",
          "text": [
            "Loss=1.1347911357879639 Batch_id=195 Accuracy=55.82: 100%|██████████| 196/196 [00:21<00:00,  8.98it/s]\n"
          ]
        },
        {
          "output_type": "stream",
          "name": "stdout",
          "text": [
            "\n",
            "Test set: Average loss: 0.5983, Accuracy: 7986/10000 (79.86%)\n",
            "\n",
            "EPOCH: 25\n"
          ]
        },
        {
          "output_type": "stream",
          "name": "stderr",
          "text": [
            "Loss=1.1016184091567993 Batch_id=195 Accuracy=56.00: 100%|██████████| 196/196 [00:22<00:00,  8.87it/s]\n"
          ]
        },
        {
          "output_type": "stream",
          "name": "stdout",
          "text": [
            "\n",
            "Test set: Average loss: 0.5910, Accuracy: 8028/10000 (80.28%)\n",
            "\n",
            "EPOCH: 26\n"
          ]
        },
        {
          "output_type": "stream",
          "name": "stderr",
          "text": [
            "Loss=1.4011716842651367 Batch_id=195 Accuracy=56.48: 100%|██████████| 196/196 [00:21<00:00,  8.96it/s]\n"
          ]
        },
        {
          "output_type": "stream",
          "name": "stdout",
          "text": [
            "\n",
            "Test set: Average loss: 0.5705, Accuracy: 8059/10000 (80.59%)\n",
            "\n",
            "EPOCH: 27\n"
          ]
        },
        {
          "output_type": "stream",
          "name": "stderr",
          "text": [
            "Loss=1.1341474056243896 Batch_id=195 Accuracy=56.45: 100%|██████████| 196/196 [00:21<00:00,  9.25it/s]\n"
          ]
        },
        {
          "output_type": "stream",
          "name": "stdout",
          "text": [
            "\n",
            "Test set: Average loss: 0.5918, Accuracy: 8019/10000 (80.19%)\n",
            "\n",
            "EPOCH: 28\n"
          ]
        },
        {
          "output_type": "stream",
          "name": "stderr",
          "text": [
            "Loss=1.1503747701644897 Batch_id=195 Accuracy=56.56: 100%|██████████| 196/196 [00:21<00:00,  9.32it/s]\n"
          ]
        },
        {
          "output_type": "stream",
          "name": "stdout",
          "text": [
            "\n",
            "Test set: Average loss: 0.5607, Accuracy: 8074/10000 (80.74%)\n",
            "\n",
            "EPOCH: 29\n"
          ]
        },
        {
          "output_type": "stream",
          "name": "stderr",
          "text": [
            "Loss=1.0961410999298096 Batch_id=195 Accuracy=57.23: 100%|██████████| 196/196 [00:22<00:00,  8.73it/s]\n"
          ]
        },
        {
          "output_type": "stream",
          "name": "stdout",
          "text": [
            "\n",
            "Test set: Average loss: 0.5525, Accuracy: 8131/10000 (81.31%)\n",
            "\n",
            "EPOCH: 30\n"
          ]
        },
        {
          "output_type": "stream",
          "name": "stderr",
          "text": [
            "Loss=1.1231920719146729 Batch_id=195 Accuracy=57.11: 100%|██████████| 196/196 [00:21<00:00,  9.10it/s]\n"
          ]
        },
        {
          "output_type": "stream",
          "name": "stdout",
          "text": [
            "\n",
            "Test set: Average loss: 0.6013, Accuracy: 7980/10000 (79.80%)\n",
            "\n",
            "EPOCH: 31\n"
          ]
        },
        {
          "output_type": "stream",
          "name": "stderr",
          "text": [
            "Loss=1.2566182613372803 Batch_id=195 Accuracy=57.54: 100%|██████████| 196/196 [00:22<00:00,  8.74it/s]\n"
          ]
        },
        {
          "output_type": "stream",
          "name": "stdout",
          "text": [
            "\n",
            "Test set: Average loss: 0.5425, Accuracy: 8127/10000 (81.27%)\n",
            "\n",
            "EPOCH: 32\n"
          ]
        },
        {
          "output_type": "stream",
          "name": "stderr",
          "text": [
            "Loss=1.1236019134521484 Batch_id=195 Accuracy=57.55: 100%|██████████| 196/196 [00:22<00:00,  8.72it/s]\n"
          ]
        },
        {
          "output_type": "stream",
          "name": "stdout",
          "text": [
            "\n",
            "Test set: Average loss: 0.6418, Accuracy: 7870/10000 (78.70%)\n",
            "\n",
            "EPOCH: 33\n"
          ]
        },
        {
          "output_type": "stream",
          "name": "stderr",
          "text": [
            "Loss=1.0758527517318726 Batch_id=195 Accuracy=57.56: 100%|██████████| 196/196 [00:21<00:00,  8.99it/s]\n"
          ]
        },
        {
          "output_type": "stream",
          "name": "stdout",
          "text": [
            "\n",
            "Test set: Average loss: 0.5290, Accuracy: 8206/10000 (82.06%)\n",
            "\n",
            "EPOCH: 34\n"
          ]
        },
        {
          "output_type": "stream",
          "name": "stderr",
          "text": [
            "Loss=1.1781705617904663 Batch_id=195 Accuracy=58.03: 100%|██████████| 196/196 [00:22<00:00,  8.87it/s]\n"
          ]
        },
        {
          "output_type": "stream",
          "name": "stdout",
          "text": [
            "\n",
            "Test set: Average loss: 0.5379, Accuracy: 8172/10000 (81.72%)\n",
            "\n",
            "EPOCH: 35\n"
          ]
        },
        {
          "output_type": "stream",
          "name": "stderr",
          "text": [
            "Loss=1.0692310333251953 Batch_id=195 Accuracy=57.89: 100%|██████████| 196/196 [00:21<00:00,  9.29it/s]\n"
          ]
        },
        {
          "output_type": "stream",
          "name": "stdout",
          "text": [
            "\n",
            "Test set: Average loss: 0.5801, Accuracy: 8037/10000 (80.37%)\n",
            "\n",
            "EPOCH: 36\n"
          ]
        },
        {
          "output_type": "stream",
          "name": "stderr",
          "text": [
            "Loss=1.2671226263046265 Batch_id=195 Accuracy=57.85: 100%|██████████| 196/196 [00:20<00:00,  9.44it/s]\n"
          ]
        },
        {
          "output_type": "stream",
          "name": "stdout",
          "text": [
            "\n",
            "Test set: Average loss: 0.5356, Accuracy: 8183/10000 (81.83%)\n",
            "\n",
            "EPOCH: 37\n"
          ]
        },
        {
          "output_type": "stream",
          "name": "stderr",
          "text": [
            "Loss=1.0798598527908325 Batch_id=195 Accuracy=58.26: 100%|██████████| 196/196 [00:20<00:00,  9.35it/s]\n"
          ]
        },
        {
          "output_type": "stream",
          "name": "stdout",
          "text": [
            "\n",
            "Test set: Average loss: 0.5530, Accuracy: 8123/10000 (81.23%)\n",
            "\n",
            "EPOCH: 38\n"
          ]
        },
        {
          "output_type": "stream",
          "name": "stderr",
          "text": [
            "Loss=1.1630990505218506 Batch_id=195 Accuracy=58.66: 100%|██████████| 196/196 [00:21<00:00,  9.05it/s]\n"
          ]
        },
        {
          "output_type": "stream",
          "name": "stdout",
          "text": [
            "\n",
            "Test set: Average loss: 0.5348, Accuracy: 8202/10000 (82.02%)\n",
            "\n",
            "EPOCH: 39\n"
          ]
        },
        {
          "output_type": "stream",
          "name": "stderr",
          "text": [
            "Loss=1.2335563898086548 Batch_id=195 Accuracy=58.79: 100%|██████████| 196/196 [00:22<00:00,  8.86it/s]\n"
          ]
        },
        {
          "output_type": "stream",
          "name": "stdout",
          "text": [
            "\n",
            "Test set: Average loss: 0.5370, Accuracy: 8173/10000 (81.73%)\n",
            "\n",
            "EPOCH: 40\n"
          ]
        },
        {
          "output_type": "stream",
          "name": "stderr",
          "text": [
            "Loss=1.0818525552749634 Batch_id=195 Accuracy=58.88: 100%|██████████| 196/196 [00:21<00:00,  8.95it/s]\n"
          ]
        },
        {
          "output_type": "stream",
          "name": "stdout",
          "text": [
            "\n",
            "Test set: Average loss: 0.5426, Accuracy: 8184/10000 (81.84%)\n",
            "\n",
            "EPOCH: 41\n"
          ]
        },
        {
          "output_type": "stream",
          "name": "stderr",
          "text": [
            "Loss=1.1839672327041626 Batch_id=195 Accuracy=59.62: 100%|██████████| 196/196 [00:22<00:00,  8.55it/s]\n"
          ]
        },
        {
          "output_type": "stream",
          "name": "stdout",
          "text": [
            "\n",
            "Test set: Average loss: 0.4851, Accuracy: 8388/10000 (83.88%)\n",
            "\n",
            "EPOCH: 42\n"
          ]
        },
        {
          "output_type": "stream",
          "name": "stderr",
          "text": [
            "Loss=1.0313597917556763 Batch_id=195 Accuracy=60.69: 100%|██████████| 196/196 [00:20<00:00,  9.35it/s]\n"
          ]
        },
        {
          "output_type": "stream",
          "name": "stdout",
          "text": [
            "\n",
            "Test set: Average loss: 0.4808, Accuracy: 8416/10000 (84.16%)\n",
            "\n",
            "EPOCH: 43\n"
          ]
        },
        {
          "output_type": "stream",
          "name": "stderr",
          "text": [
            "Loss=0.9756035804748535 Batch_id=195 Accuracy=60.80: 100%|██████████| 196/196 [00:20<00:00,  9.36it/s]\n"
          ]
        },
        {
          "output_type": "stream",
          "name": "stdout",
          "text": [
            "\n",
            "Test set: Average loss: 0.4777, Accuracy: 8416/10000 (84.16%)\n",
            "\n",
            "EPOCH: 44\n"
          ]
        },
        {
          "output_type": "stream",
          "name": "stderr",
          "text": [
            "Loss=1.1812334060668945 Batch_id=195 Accuracy=60.90: 100%|██████████| 196/196 [00:21<00:00,  9.12it/s]\n"
          ]
        },
        {
          "output_type": "stream",
          "name": "stdout",
          "text": [
            "\n",
            "Test set: Average loss: 0.4778, Accuracy: 8407/10000 (84.07%)\n",
            "\n",
            "EPOCH: 45\n"
          ]
        },
        {
          "output_type": "stream",
          "name": "stderr",
          "text": [
            "Loss=1.2265733480453491 Batch_id=195 Accuracy=60.97: 100%|██████████| 196/196 [00:22<00:00,  8.84it/s]\n"
          ]
        },
        {
          "output_type": "stream",
          "name": "stdout",
          "text": [
            "\n",
            "Test set: Average loss: 0.4738, Accuracy: 8433/10000 (84.33%)\n",
            "\n",
            "EPOCH: 46\n"
          ]
        },
        {
          "output_type": "stream",
          "name": "stderr",
          "text": [
            "Loss=1.131704568862915 Batch_id=195 Accuracy=60.86: 100%|██████████| 196/196 [00:21<00:00,  8.92it/s]\n"
          ]
        },
        {
          "output_type": "stream",
          "name": "stdout",
          "text": [
            "\n",
            "Test set: Average loss: 0.4732, Accuracy: 8444/10000 (84.44%)\n",
            "\n",
            "EPOCH: 47\n"
          ]
        },
        {
          "output_type": "stream",
          "name": "stderr",
          "text": [
            "Loss=0.8954204320907593 Batch_id=195 Accuracy=61.10: 100%|██████████| 196/196 [00:21<00:00,  8.99it/s]\n"
          ]
        },
        {
          "output_type": "stream",
          "name": "stdout",
          "text": [
            "\n",
            "Test set: Average loss: 0.4722, Accuracy: 8427/10000 (84.27%)\n",
            "\n",
            "EPOCH: 48\n"
          ]
        },
        {
          "output_type": "stream",
          "name": "stderr",
          "text": [
            "Loss=1.1057285070419312 Batch_id=195 Accuracy=60.95: 100%|██████████| 196/196 [00:22<00:00,  8.89it/s]\n"
          ]
        },
        {
          "output_type": "stream",
          "name": "stdout",
          "text": [
            "\n",
            "Test set: Average loss: 0.4734, Accuracy: 8451/10000 (84.51%)\n",
            "\n",
            "EPOCH: 49\n"
          ]
        },
        {
          "output_type": "stream",
          "name": "stderr",
          "text": [
            "Loss=1.0914275646209717 Batch_id=195 Accuracy=61.15: 100%|██████████| 196/196 [00:21<00:00,  9.14it/s]\n"
          ]
        },
        {
          "output_type": "stream",
          "name": "stdout",
          "text": [
            "\n",
            "Test set: Average loss: 0.4717, Accuracy: 8427/10000 (84.27%)\n",
            "\n",
            "EPOCH: 50\n"
          ]
        },
        {
          "output_type": "stream",
          "name": "stderr",
          "text": [
            "Loss=1.1885192394256592 Batch_id=195 Accuracy=61.48: 100%|██████████| 196/196 [00:20<00:00,  9.34it/s]\n"
          ]
        },
        {
          "output_type": "stream",
          "name": "stdout",
          "text": [
            "\n",
            "Test set: Average loss: 0.4697, Accuracy: 8438/10000 (84.38%)\n",
            "\n"
          ]
        }
      ],
      "source": [
        "EPOCHS = 50\n",
        "for epoch in range(EPOCHS):\n",
        "    print(\"EPOCH:\", epoch+1)\n",
        "    train(model, device, train_loader, optimizer, epoch)\n",
        "    test(model, device, test_loader)"
      ]
    },
    {
      "cell_type": "code",
      "execution_count": 12,
      "metadata": {
        "id": "B5MFqE1yaSjn",
        "colab": {
          "base_uri": "https://localhost:8080/",
          "height": 870
        },
        "outputId": "ff89088b-990b-41f9-d438-8f3d8c214d36"
      },
      "outputs": [
        {
          "output_type": "execute_result",
          "data": {
            "text/plain": [
              "Text(0.5, 1.0, 'Test Accuracy')"
            ]
          },
          "metadata": {},
          "execution_count": 12
        },
        {
          "output_type": "display_data",
          "data": {
            "text/plain": [
              "<Figure size 1500x1000 with 4 Axes>"
            ],
            "image/png": "[encoded data removed]"
          },
          "metadata": {}
        }
      ],
      "source": [
        "t = [t_items.item() for t_items in train_losses]\n",
        "%matplotlib inline\n",
        "import matplotlib.pyplot as plt\n",
        "fig, axs = plt.subplots(2,2,figsize=(15,10))\n",
        "axs[0, 0].plot(t)\n",
        "axs[0, 0].set_title(\"Training Loss\")\n",
        "axs[1, 0].plot(train_acc[4000:])\n",
        "axs[1, 0].set_title(\"Training Accuracy\")\n",
        "axs[0, 1].plot(test_losses)\n",
        "axs[0, 1].set_title(\"Test Loss\")\n",
        "axs[1, 1].plot(test_acc)\n",
        "axs[1, 1].set_title(\"Test Accuracy\")"
      ]
    }
  ],
  "metadata": {
    "accelerator": "GPU",
    "colab": {
      "gpuType": "T4",
      "provenance": [],
      "authorship_tag": "ABX9TyMwPGzKwgvJj8OUwh5g4BpO",
      "include_colab_link": true
    },
    "kernelspec": {
      "display_name": "Python 3",
      "name": "python3"
    },
    "language_info": {
      "name": "python"
    }
  },
  "nbformat": 4,
  "nbformat_minor": 0
}