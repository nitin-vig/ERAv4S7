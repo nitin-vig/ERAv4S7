{
  "cells": [
    {
      "cell_type": "markdown",
      "metadata": {
        "id": "view-in-github",
        "colab_type": "text"
      },
      "source": [
        "<a href=\"https://colab.research.google.com/github/nitin-vig/ERAv4S7/blob/main/CIFAR10v1.ipynb\" target=\"_parent\"><img src=\"https://colab.research.google.com/assets/colab-badge.svg\" alt=\"Open In Colab\"/></a>"
      ]
    },
    {
      "cell_type": "code",
      "execution_count": null,
      "metadata": {
        "id": "cOSlh9n4c-hH"
      },
      "outputs": [],
      "source": []
    },
    {
      "cell_type": "markdown",
      "metadata": {
        "id": "u-GYmfW8dGpQ"
      },
      "source": []
    },
    {
      "cell_type": "markdown",
      "metadata": {
        "id": "XC8UX7LDdHa0"
      },
      "source": [
        "\n",
        "\n",
        "```\n",
        "# This is formatted as code\n",
        "```\n",
        "\n",
        "# Improve Model Accuracy."
      ]
    },
    {
      "cell_type": "markdown",
      "metadata": {
        "id": "7XzvJLus2WJ2"
      },
      "source": []
    },
    {
      "cell_type": "code",
      "execution_count": null,
      "metadata": {
        "id": "UxaYbdi2dLBO"
      },
      "outputs": [],
      "source": [
        "from __future__ import print_function\n",
        "import torch\n",
        "import torch.nn as nn\n",
        "import torch.nn.functional as F\n",
        "import torch.optim as optim\n",
        "from torchvision import datasets, transforms\n",
        "from matplotlib import pyplot as plt\n",
        "import albumentations as A\n",
        "from albumentations.pytorch import ToTensorV2\n",
        "import numpy as np"
      ]
    },
    {
      "cell_type": "markdown",
      "metadata": {
        "id": "g4fYw485T0IV"
      },
      "source": [
        "**Compute Mean and Standard Deviation for Normalization of data**. Commented as it is needed only once"
      ]
    },
    {
      "cell_type": "code",
      "execution_count": null,
      "metadata": {
        "id": "-A43tRpdTzmU"
      },
      "outputs": [],
      "source": []
    },
    {
      "cell_type": "code",
      "execution_count": null,
      "metadata": {
        "id": "Uei6QCR0TD6V"
      },
      "outputs": [],
      "source": [
        "# import torch\n",
        "# from torchvision import datasets, transforms\n",
        "# from torch.utils.data import DataLoader\n",
        "# from tqdm import tqdm\n",
        "\n",
        "# def get_mean_and_std(dataloader):\n",
        "#     \"\"\"\n",
        "#     Calculate the mean and standard deviation of a dataset.\n",
        "\n",
        "#     Args:\n",
        "#         dataloader (DataLoader): The DataLoader for the dataset.\n",
        "\n",
        "#     Returns:\n",
        "#         tuple: The mean and standard deviation tensors for each channel.\n",
        "#     \"\"\"\n",
        "#     channels_sum, channels_squared_sum, num_batches = 0, 0, 0\n",
        "#     for data, _ in tqdm(dataloader, desc=\"Calculating mean and std\"):\n",
        "#         # Mean over batch, height, and width, but not over the channels\n",
        "#         channels_sum += torch.mean(data, dim=[0, 2, 3])\n",
        "#         channels_squared_sum += torch.mean(data**2, dim=[0, 2, 3])\n",
        "#         num_batches += 1\n",
        "\n",
        "#     mean = channels_sum / num_batches\n",
        "#     # Std = sqrt(E[X^2] - (E[X])^2)\n",
        "#     std = (channels_squared_sum / num_batches - mean ** 2) ** 0.5\n",
        "#     return mean, std\n",
        "\n",
        "# # 1. Load the dataset without normalization (only convert to tensor)\n",
        "# # This will automatically download the dataset if it's not present\n",
        "# transform = transforms.Compose([transforms.ToTensor()])\n",
        "# train_dataset = datasets.CIFAR10(root='./data', train=True, download=True, transform=transform)\n",
        "\n",
        "# # 2. Create a DataLoader\n",
        "# train_loader = DataLoader(train_dataset, batch_size=128, shuffle=False)\n",
        "\n",
        "# # 3. Get the mean and standard deviation\n",
        "# mean, std = get_mean_and_std(train_loader)\n",
        "\n",
        "# print('Calculated Mean:', mean)\n",
        "# print('Calculated Standard Deviation:', std)\n",
        "\n",
        "# 100%|██████████| 170M/170M [00:13<00:00, 12.4MB/s]\n",
        "# Calculating mean and std: 100%|██████████| 391/391 [00:06<00:00, 61.66it/s]\n",
        "# Calculated Mean: tensor([0.4914, 0.4822, 0.4465])\n",
        "# Calculated Standard Deviation: tensor([0.2470, 0.2435, 0.2616])"
      ]
    },
    {
      "cell_type": "code",
      "execution_count": null,
      "metadata": {
        "colab": {
          "base_uri": "https://localhost:8080/"
        },
        "id": "RLvCZKLp7lh2",
        "outputId": "7e88dfe5-9905-4cca-a4ea-64e784fe4aa9"
      },
      "outputs": [
        {
          "name": "stderr",
          "output_type": "stream",
          "text": [
            "/tmp/ipython-input-817236643.py:18: UserWarning: Argument(s) 'num_holes, max_h_size, max_w_size, fill_value' are not valid for transform CoarseDropout\n",
            "  A.CoarseDropout(\n"
          ]
        }
      ],
      "source": [
        "# Train Phase transformations\n",
        "# train_transforms = transforms.Compose([\n",
        "\n",
        "#                                        transforms.ToTensor(),\n",
        "#                                        transforms.Normalize((0.4914, 0.4822, 0.4465), (0.2470, 0.2435, 0.2616),), # The mean and std have to be sequences (e.g., tuples), therefore you should add a comma after the values.\n",
        "#                                        A.CoarseDropout(num_holes_range=(1,1),hole_height_range=(16,16),hole_width_range=(16,16),p=0.5),\n",
        "#                                        A.HorizontalFlip(0.5),\n",
        "#                                        A.ShiftScaleRotate(shift_limit=1,scale_limit=1,rotate_limit=1,p=0.5)\n",
        "#                                        ])\n",
        "# Define your Albumentations pipeline\n",
        "albumentations_transforms = A.Compose([\n",
        "    A.Normalize(\n",
        "        mean=(0.4914, 0.4822, 0.4465),\n",
        "        std=(0.2470, 0.2435, 0.2616),\n",
        "    ),\n",
        "    A.HorizontalFlip(0.5),\n",
        "    A.ShiftScaleRotate(shift_limit=1,scale_limit=1,rotate_limit=1,p=0.5),\n",
        "    A.CoarseDropout(\n",
        "        num_holes=1,\n",
        "        max_h_size=16,\n",
        "        max_w_size=16,\n",
        "        fill_value=0.4822,\n",
        "        p=0.5\n",
        "    ),\n",
        "    ToTensorV2(),\n",
        "])\n",
        "\n",
        "# Use a lambda to wrap the Albumentations call\n",
        "train_transforms = lambda img: albumentations_transforms(image=np.array(img))['image']\n",
        "\n",
        "\n",
        "# Test Phase transformations\n",
        "test_transforms = transforms.Compose([\n",
        "                                       transforms.ToTensor(),\n",
        "                                       transforms.Normalize((0.4914, 0.4822, 0.4465), (0.2470, 0.2435, 0.2616)),\n",
        "                                       ])"
      ]
    },
    {
      "cell_type": "code",
      "execution_count": null,
      "metadata": {
        "id": "TRawLqCH7p0I"
      },
      "outputs": [],
      "source": [
        "train = datasets.CIFAR10('./data', train=True, download=True, transform=train_transforms)\n",
        "test = datasets.CIFAR10('./data', train=False, download=True, transform=test_transforms)"
      ]
    },
    {
      "cell_type": "code",
      "execution_count": null,
      "metadata": {
        "id": "iK8DvS4FSnSa"
      },
      "outputs": [],
      "source": []
    },
    {
      "cell_type": "code",
      "execution_count": null,
      "metadata": {
        "colab": {
          "base_uri": "https://localhost:8080/"
        },
        "id": "H8PoAAuI7vNO",
        "outputId": "72ce3ce2-3373-4a2a-904a-3a6b55f05f14"
      },
      "outputs": [
        {
          "name": "stdout",
          "output_type": "stream",
          "text": [
            "CUDA Available? True\n"
          ]
        }
      ],
      "source": [
        "SEED = 1\n",
        "\n",
        "# CUDA?\n",
        "cuda = torch.cuda.is_available()\n",
        "print(\"CUDA Available?\", cuda)\n",
        "\n",
        "# For reproducibility\n",
        "torch.manual_seed(SEED)\n",
        "\n",
        "if cuda:\n",
        "    torch.cuda.manual_seed(SEED)\n",
        "\n",
        "# dataloader arguments - something you'll fetch these from cmdprmt\n",
        "dataloader_args = dict(shuffle=True, batch_size=256, num_workers=4, pin_memory=True) if cuda else dict(shuffle=True, batch_size=64)\n",
        "\n",
        "# train dataloader\n",
        "train_loader = torch.utils.data.DataLoader(train, **dataloader_args)\n",
        "\n",
        "# test dataloader\n",
        "test_loader = torch.utils.data.DataLoader(test, **dataloader_args)"
      ]
    },
    {
      "cell_type": "code",
      "execution_count": null,
      "metadata": {
        "colab": {
          "base_uri": "https://localhost:8080/",
          "height": 671
        },
        "id": "N8m3tkcbwa_c",
        "outputId": "8a21e280-f487-4957-d3a8-ecaeb546ea57"
      },
      "outputs": [
        {
          "name": "stderr",
          "output_type": "stream",
          "text": [
            "WARNING:matplotlib.image:Clipping input data to the valid range for imshow with RGB data ([0..1] for floats or [0..255] for integers). Got range [0.0..1.7799402].\n",
            "WARNING:matplotlib.image:Clipping input data to the valid range for imshow with RGB data ([0..1] for floats or [0..255] for integers). Got range [-1.3764757..1.5483915].\n",
            "WARNING:matplotlib.image:Clipping input data to the valid range for imshow with RGB data ([0..1] for floats or [0..255] for integers). Got range [-1.95772..2.0942788].\n",
            "WARNING:matplotlib.image:Clipping input data to the valid range for imshow with RGB data ([0..1] for floats or [0..255] for integers). Got range [-1.8997625..2.126489].\n",
            "WARNING:matplotlib.image:Clipping input data to the valid range for imshow with RGB data ([0..1] for floats or [0..255] for integers). Got range [-1.2716674..2.1158257].\n",
            "WARNING:matplotlib.image:Clipping input data to the valid range for imshow with RGB data ([0..1] for floats or [0..255] for integers). Got range [-1.220081..1.1357744].\n",
            "WARNING:matplotlib.image:Clipping input data to the valid range for imshow with RGB data ([0..1] for floats or [0..255] for integers). Got range [-1.7978481..1.0175223].\n",
            "WARNING:matplotlib.image:Clipping input data to the valid range for imshow with RGB data ([0..1] for floats or [0..255] for integers). Got range [-1.9802876..2.1158257].\n",
            "WARNING:matplotlib.image:Clipping input data to the valid range for imshow with RGB data ([0..1] for floats or [0..255] for integers). Got range [-1.775452..1.0561702].\n",
            "WARNING:matplotlib.image:Clipping input data to the valid range for imshow with RGB data ([0..1] for floats or [0..255] for integers). Got range [-1.4958804..1.671404].\n",
            "WARNING:matplotlib.image:Clipping input data to the valid range for imshow with RGB data ([0..1] for floats or [0..255] for integers). Got range [-1.9545572..1.8877448].\n",
            "WARNING:matplotlib.image:Clipping input data to the valid range for imshow with RGB data ([0..1] for floats or [0..255] for integers). Got range [-1.6098725..1.5789187].\n"
          ]
        },
        {
          "data": {
            "image/png": "[encoded data removed]",
            "text/plain": [
              "<Figure size 640x480 with 12 Axes>"
            ]
          },
          "metadata": {},
          "output_type": "display_data"
        }
      ],
      "source": [
        "import matplotlib.pyplot as plt\n",
        "\n",
        "batch_data, batch_label = next(iter(train_loader))\n",
        "\n",
        "fig = plt.figure()\n",
        "\n",
        "for i in range(12):\n",
        "  plt.subplot(3,4,i+1)\n",
        "  plt.tight_layout()\n",
        "  # plt.imshow(batch_data[i].squeeze(0), cmap='gray')\n",
        "  plt.imshow(batch_data[i].permute(1,2,0))\n",
        "\n",
        "  plt.title(batch_label[i].item())\n",
        "  plt.xticks([])\n",
        "  plt.yticks([])"
      ]
    },
    {
      "cell_type": "code",
      "execution_count": null,
      "metadata": {
        "id": "gr757vIC7-Rt"
      },
      "outputs": [],
      "source": [
        "class Net(nn.Module):\n",
        "    def __init__(self):\n",
        "        super(Net, self).__init__()\n",
        "\n",
        "        # Define the multiple-layer convolutional block\n",
        "        self.conv_block1 = nn.Sequential(nn.Conv2d(3, 16, 3, padding=16), # input size=64 , RF = 3, outputsize=62, Jout =1,\n",
        "                                    nn.ReLU(), nn.BatchNorm2d(16),\n",
        "\n",
        "                                    nn.Conv2d(16, 16, 3, padding=0),      # input size=62 , RF = 5, outputsize=60, Jout =1\n",
        "                                    nn.ReLU(),nn.BatchNorm2d(16),\n",
        "\n",
        "                                    nn.Conv2d(16, 32, 3, padding=0),      # input size=60 , RF = 7, outputsize=58, Jout =1\n",
        "                                    nn.ReLU(), nn.BatchNorm2d(32),\n",
        "\n",
        "                                    nn.Conv2d(32, 64, 3, padding=0, stride=2),# input size=58 , RF = 9, outputsize=28, Jout=2\n",
        "                                    nn.ReLU(),nn.BatchNorm2d(64),\n",
        "                                  )\n",
        "\n",
        "\n",
        "        self.conv_block2 = nn.Sequential(nn.Conv2d(in_channels=64, out_channels=16, kernel_size=(1, 1), padding=0, bias=False),\n",
        "                                    nn.BatchNorm2d(16)) # input size=28 , RF = 9, outputsize=28, Jout=2\n",
        "\n",
        "        self.conv_block3 = nn.Sequential(nn.Conv2d(16, 32, 3, padding=0),# input size=28 , RF = 13, outputsize=26,Jout=2\n",
        "                                    nn.ReLU(),nn.BatchNorm2d(32),\n",
        "\n",
        "                                    nn.Conv2d(32, 64, 3, padding=0,dilation=2),# input size=26 , RF = 21, outputsize=22, Jout=2 # dilation of 2~ 5x5 kernel\n",
        "                                    nn.ReLU(),nn.BatchNorm2d(64),\n",
        "\n",
        "                                    nn.Conv2d(64, 64, 3, stride=2,padding=1),# input size=22 , RF = 25, outputsize=11, Jout=4\n",
        "                                    nn.ReLU(),nn.BatchNorm2d(64),\n",
        "                                    )\n",
        "\n",
        "        self.conv_block4 = nn.Sequential(\n",
        "                                    nn.Conv2d(64, 32, 3),# input size=11 , RF = 33, outputsize=9, Jout=4\n",
        "                                    nn.ReLU(),nn.BatchNorm2d(32),\n",
        "\n",
        "                                    nn.Conv2d(32, 32, 3),# input size=9 , RF = 41, outputsize=7, Jout=4\n",
        "                                    nn.ReLU(),nn.BatchNorm2d(32),\n",
        "\n",
        "                                    nn.Conv2d(32, 16, 3),# input size=7 , RF = 49, outputsize=5, Jout=4\n",
        "                                    nn.ReLU(),nn.BatchNorm2d(16),\n",
        "\n",
        "                                    nn.Conv2d(in_channels=16, out_channels=10, kernel_size=(1, 1), padding=0, bias=False),\n",
        "                                    nn.BatchNorm2d(10),\n",
        "                                    nn.AvgPool2d(kernel_size=5)\n",
        "                                    )\n",
        "\n",
        "    def forward(self, x):\n",
        "        # Block 1\n",
        "        x = self.conv_block1(x)\n",
        "        x = self.conv_block2(x)\n",
        "        x = self.conv_block3(x)\n",
        "        x = self.conv_block4(x)\n",
        "        x = x.view(-1, 10)\n",
        "        return F.log_softmax(x, dim=-1)"
      ]
    },
    {
      "cell_type": "code",
      "execution_count": null,
      "metadata": {
        "colab": {
          "base_uri": "https://localhost:8080/"
        },
        "id": "Pe9JSzWI8B_v",
        "outputId": "1ebd9e47-79aa-492b-8119-dadb2276b1a8"
      },
      "outputs": [
        {
          "name": "stdout",
          "output_type": "stream",
          "text": [
            "Requirement already satisfied: torchsummary in /usr/local/lib/python3.12/dist-packages (1.5.1)\n",
            "cuda\n",
            "----------------------------------------------------------------\n",
            "        Layer (type)               Output Shape         Param #\n",
            "================================================================\n",
            "            Conv2d-1           [-1, 16, 62, 62]             448\n",
            "              ReLU-2           [-1, 16, 62, 62]               0\n",
            "       BatchNorm2d-3           [-1, 16, 62, 62]              32\n",
            "            Conv2d-4           [-1, 16, 60, 60]           2,320\n",
            "              ReLU-5           [-1, 16, 60, 60]               0\n",
            "       BatchNorm2d-6           [-1, 16, 60, 60]              32\n",
            "            Conv2d-7           [-1, 32, 58, 58]           4,640\n",
            "              ReLU-8           [-1, 32, 58, 58]               0\n",
            "       BatchNorm2d-9           [-1, 32, 58, 58]              64\n",
            "           Conv2d-10           [-1, 64, 28, 28]          18,496\n",
            "             ReLU-11           [-1, 64, 28, 28]               0\n",
            "      BatchNorm2d-12           [-1, 64, 28, 28]             128\n",
            "           Conv2d-13           [-1, 16, 28, 28]           1,024\n",
            "      BatchNorm2d-14           [-1, 16, 28, 28]              32\n",
            "           Conv2d-15           [-1, 32, 26, 26]           4,640\n",
            "             ReLU-16           [-1, 32, 26, 26]               0\n",
            "      BatchNorm2d-17           [-1, 32, 26, 26]              64\n",
            "           Conv2d-18           [-1, 64, 22, 22]          18,496\n",
            "             ReLU-19           [-1, 64, 22, 22]               0\n",
            "      BatchNorm2d-20           [-1, 64, 22, 22]             128\n",
            "           Conv2d-21           [-1, 64, 11, 11]          36,928\n",
            "             ReLU-22           [-1, 64, 11, 11]               0\n",
            "      BatchNorm2d-23           [-1, 64, 11, 11]             128\n",
            "           Conv2d-24             [-1, 32, 9, 9]          18,464\n",
            "             ReLU-25             [-1, 32, 9, 9]               0\n",
            "      BatchNorm2d-26             [-1, 32, 9, 9]              64\n",
            "           Conv2d-27             [-1, 32, 7, 7]           9,248\n",
            "             ReLU-28             [-1, 32, 7, 7]               0\n",
            "      BatchNorm2d-29             [-1, 32, 7, 7]              64\n",
            "           Conv2d-30             [-1, 16, 5, 5]           4,624\n",
            "             ReLU-31             [-1, 16, 5, 5]               0\n",
            "      BatchNorm2d-32             [-1, 16, 5, 5]              32\n",
            "           Conv2d-33             [-1, 10, 5, 5]             160\n",
            "      BatchNorm2d-34             [-1, 10, 5, 5]              20\n",
            "        AvgPool2d-35             [-1, 10, 1, 1]               0\n",
            "================================================================\n",
            "Total params: 120,276\n",
            "Trainable params: 120,276\n",
            "Non-trainable params: 0\n",
            "----------------------------------------------------------------\n",
            "Input size (MB): 0.01\n",
            "Forward/backward pass size (MB): 8.02\n",
            "Params size (MB): 0.46\n",
            "Estimated Total Size (MB): 8.49\n",
            "----------------------------------------------------------------\n"
          ]
        }
      ],
      "source": [
        "!pip install torchsummary\n",
        "from torchsummary import summary\n",
        "use_cuda = torch.cuda.is_available()\n",
        "device = torch.device(\"cuda\" if use_cuda else \"cpu\")\n",
        "print(device)\n",
        "model = Net().to(device)\n",
        "summary(model, input_size=(3, 32, 32))"
      ]
    },
    {
      "cell_type": "code",
      "execution_count": null,
      "metadata": {
        "id": "ZdpG6H_54ONE"
      },
      "outputs": [],
      "source": [
        "\n",
        "model = Net().to(device)\n",
        "optimizer = optim.SGD(model.parameters(), lr=0.01, momentum=0.9)\n",
        "scheduler = torch.optim.lr_scheduler.StepLR(optimizer, step_size=40, gamma=0.1) ## Learning: adjust LR to a smaller value after every 5 epochs for fine tuning"
      ]
    },
    {
      "cell_type": "code",
      "execution_count": null,
      "metadata": {
        "id": "imHnmYf6RccL"
      },
      "outputs": [],
      "source": []
    },
    {
      "cell_type": "code",
      "execution_count": null,
      "metadata": {
        "id": "x-ia4Qeg8rOD"
      },
      "outputs": [],
      "source": [
        "from tqdm import tqdm\n",
        "\n",
        "train_losses = []\n",
        "test_losses = []\n",
        "train_acc = []\n",
        "test_acc = []\n",
        "\n",
        "def train(model, device, train_loader, optimizer, epoch):\n",
        "  model.train()\n",
        "  pbar = tqdm(train_loader)\n",
        "  correct = 0\n",
        "  processed = 0\n",
        "  for batch_idx, (data, target) in enumerate(pbar):\n",
        "    # get samples\n",
        "    data, target = data.to(device), target.to(device)\n",
        "\n",
        "    # Init\n",
        "    optimizer.zero_grad()\n",
        "    # In PyTorch, we need to set the gradients to zero before starting to do backpropragation because PyTorch accumulates the gradients on subsequent backward passes.\n",
        "    # Because of this, when you start your training loop, ideally you should zero out the gradients so that you do the parameter update correctly.\n",
        "\n",
        "    # Predict\n",
        "    y_pred = model(data)\n",
        "\n",
        "    # Calculate loss\n",
        "    loss = F.nll_loss(y_pred, target)\n",
        "    train_losses.append(loss)\n",
        "\n",
        "    # Backpropagation\n",
        "    loss.backward()\n",
        "    optimizer.step()\n",
        "\n",
        "    # Update pbar-tqdm\n",
        "\n",
        "    pred = y_pred.argmax(dim=1, keepdim=True)  # get the index of the max log-probability\n",
        "    correct += pred.eq(target.view_as(pred)).sum().item()\n",
        "    processed += len(data)\n",
        "\n",
        "    pbar.set_description(desc= f'Loss={loss.item()} Batch_id={batch_idx} Accuracy={100*correct/processed:0.2f}')\n",
        "    train_acc.append(100*correct/processed)\n",
        "\n",
        "  # Update the learning rate\n",
        "  scheduler.step()\n",
        "\n",
        "\n",
        "def test(model, device, test_loader):\n",
        "    model.eval()\n",
        "    test_loss = 0\n",
        "    correct = 0\n",
        "    with torch.no_grad():\n",
        "        for data, target in test_loader:\n",
        "            data, target = data.to(device), target.to(device)\n",
        "            output = model(data)\n",
        "            test_loss += F.nll_loss(output, target, reduction='sum').item()  # sum up batch loss\n",
        "            pred = output.argmax(dim=1, keepdim=True)  # get the index of the max log-probability\n",
        "            correct += pred.eq(target.view_as(pred)).sum().item()\n",
        "\n",
        "    test_loss /= len(test_loader.dataset)\n",
        "    test_losses.append(test_loss)\n",
        "\n",
        "    print('\\nTest set: Average loss: {:.4f}, Accuracy: {}/{} ({:.2f}%)\\n'.format(\n",
        "        test_loss, correct, len(test_loader.dataset),\n",
        "        100. * correct / len(test_loader.dataset)))\n",
        "\n",
        "    test_acc.append(100. * correct / len(test_loader.dataset))"
      ]
    },
    {
      "cell_type": "code",
      "execution_count": null,
      "metadata": {
        "id": "KP6zxmOEaOvv"
      },
      "outputs": [],
      "source": []
    },
    {
      "cell_type": "code",
      "execution_count": null,
      "metadata": {
        "colab": {
          "background_save": true,
          "base_uri": "https://localhost:8080/"
        },
        "id": "5vSFWk6-8vk2",
        "outputId": "69670442-3e1d-42a9-a97e-8439368ffaf5"
      },
      "outputs": [
        {
          "name": "stdout",
          "output_type": "stream",
          "text": [
            "EPOCH: 1\n"
          ]
        },
        {
          "name": "stderr",
          "output_type": "stream",
          "text": [
            "Loss=1.9782387018203735 Batch_id=195 Accuracy=27.12: 100%|██████████| 196/196 [00:31<00:00,  6.31it/s]\n"
          ]
        },
        {
          "name": "stdout",
          "output_type": "stream",
          "text": [
            "\n",
            "Test set: Average loss: 1.5581, Accuracy: 4259/10000 (42.59%)\n",
            "\n",
            "EPOCH: 2\n"
          ]
        },
        {
          "name": "stderr",
          "output_type": "stream",
          "text": [
            "Loss=1.6482250690460205 Batch_id=195 Accuracy=34.29: 100%|██████████| 196/196 [00:22<00:00,  8.63it/s]\n"
          ]
        },
        {
          "name": "stdout",
          "output_type": "stream",
          "text": [
            "\n",
            "Test set: Average loss: 1.3753, Accuracy: 5139/10000 (51.39%)\n",
            "\n",
            "EPOCH: 3\n"
          ]
        },
        {
          "name": "stderr",
          "output_type": "stream",
          "text": [
            "Loss=1.6531331539154053 Batch_id=195 Accuracy=38.96: 100%|██████████| 196/196 [00:22<00:00,  8.88it/s]\n"
          ]
        },
        {
          "name": "stdout",
          "output_type": "stream",
          "text": [
            "\n",
            "Test set: Average loss: 1.4456, Accuracy: 4684/10000 (46.84%)\n",
            "\n",
            "EPOCH: 4\n"
          ]
        },
        {
          "name": "stderr",
          "output_type": "stream",
          "text": [
            "Loss=1.456578254699707 Batch_id=195 Accuracy=42.13: 100%|██████████| 196/196 [00:22<00:00,  8.68it/s]\n"
          ]
        },
        {
          "name": "stdout",
          "output_type": "stream",
          "text": [
            "\n",
            "Test set: Average loss: 1.1587, Accuracy: 5862/10000 (58.62%)\n",
            "\n",
            "EPOCH: 5\n"
          ]
        },
        {
          "name": "stderr",
          "output_type": "stream",
          "text": [
            "Loss=1.525917410850525 Batch_id=195 Accuracy=43.56: 100%|██████████| 196/196 [00:23<00:00,  8.22it/s]\n"
          ]
        },
        {
          "name": "stdout",
          "output_type": "stream",
          "text": [
            "\n",
            "Test set: Average loss: 0.9964, Accuracy: 6507/10000 (65.07%)\n",
            "\n",
            "EPOCH: 6\n"
          ]
        },
        {
          "name": "stderr",
          "output_type": "stream",
          "text": [
            "Loss=1.3139216899871826 Batch_id=195 Accuracy=45.32: 100%|██████████| 196/196 [00:23<00:00,  8.20it/s]\n"
          ]
        },
        {
          "name": "stdout",
          "output_type": "stream",
          "text": [
            "\n",
            "Test set: Average loss: 0.9472, Accuracy: 6655/10000 (66.55%)\n",
            "\n",
            "EPOCH: 7\n"
          ]
        },
        {
          "name": "stderr",
          "output_type": "stream",
          "text": [
            "Loss=1.5311640501022339 Batch_id=195 Accuracy=47.08: 100%|██████████| 196/196 [00:22<00:00,  8.80it/s]\n"
          ]
        },
        {
          "name": "stdout",
          "output_type": "stream",
          "text": [
            "\n",
            "Test set: Average loss: 0.8880, Accuracy: 6921/10000 (69.21%)\n",
            "\n",
            "EPOCH: 8\n"
          ]
        },
        {
          "name": "stderr",
          "output_type": "stream",
          "text": [
            "Loss=1.3082348108291626 Batch_id=195 Accuracy=48.53: 100%|██████████| 196/196 [00:22<00:00,  8.83it/s]\n"
          ]
        },
        {
          "name": "stdout",
          "output_type": "stream",
          "text": [
            "\n",
            "Test set: Average loss: 0.8256, Accuracy: 7110/10000 (71.10%)\n",
            "\n",
            "EPOCH: 9\n"
          ]
        },
        {
          "name": "stderr",
          "output_type": "stream",
          "text": [
            "Loss=1.2709459066390991 Batch_id=195 Accuracy=49.30: 100%|██████████| 196/196 [00:22<00:00,  8.71it/s]\n"
          ]
        },
        {
          "name": "stdout",
          "output_type": "stream",
          "text": [
            "\n",
            "Test set: Average loss: 0.8077, Accuracy: 7217/10000 (72.17%)\n",
            "\n",
            "EPOCH: 10\n"
          ]
        },
        {
          "name": "stderr",
          "output_type": "stream",
          "text": [
            "Loss=1.3911457061767578 Batch_id=195 Accuracy=50.64: 100%|██████████| 196/196 [00:21<00:00,  9.07it/s]\n"
          ]
        },
        {
          "name": "stdout",
          "output_type": "stream",
          "text": [
            "\n",
            "Test set: Average loss: 0.7906, Accuracy: 7266/10000 (72.66%)\n",
            "\n",
            "EPOCH: 11\n"
          ]
        },
        {
          "name": "stderr",
          "output_type": "stream",
          "text": [
            "Loss=1.4544823169708252 Batch_id=195 Accuracy=51.39: 100%|██████████| 196/196 [00:21<00:00,  8.97it/s]\n"
          ]
        },
        {
          "name": "stdout",
          "output_type": "stream",
          "text": [
            "\n",
            "Test set: Average loss: 0.7423, Accuracy: 7438/10000 (74.38%)\n",
            "\n",
            "EPOCH: 12\n"
          ]
        },
        {
          "name": "stderr",
          "output_type": "stream",
          "text": [
            "Loss=1.2816100120544434 Batch_id=195 Accuracy=51.78: 100%|██████████| 196/196 [00:22<00:00,  8.85it/s]\n"
          ]
        },
        {
          "name": "stdout",
          "output_type": "stream",
          "text": [
            "\n",
            "Test set: Average loss: 0.7168, Accuracy: 7588/10000 (75.88%)\n",
            "\n",
            "EPOCH: 13\n"
          ]
        },
        {
          "name": "stderr",
          "output_type": "stream",
          "text": [
            "Loss=1.4327789545059204 Batch_id=195 Accuracy=52.60: 100%|██████████| 196/196 [00:23<00:00,  8.23it/s]\n"
          ]
        },
        {
          "name": "stdout",
          "output_type": "stream",
          "text": [
            "\n",
            "Test set: Average loss: 0.8310, Accuracy: 7161/10000 (71.61%)\n",
            "\n",
            "EPOCH: 14\n"
          ]
        },
        {
          "name": "stderr",
          "output_type": "stream",
          "text": [
            "Loss=1.3653085231781006 Batch_id=195 Accuracy=52.80: 100%|██████████| 196/196 [00:23<00:00,  8.41it/s]\n"
          ]
        },
        {
          "name": "stdout",
          "output_type": "stream",
          "text": [
            "\n",
            "Test set: Average loss: 0.6781, Accuracy: 7701/10000 (77.01%)\n",
            "\n",
            "EPOCH: 15\n"
          ]
        },
        {
          "name": "stderr",
          "output_type": "stream",
          "text": [
            "Loss=1.3439165353775024 Batch_id=195 Accuracy=53.48: 100%|██████████| 196/196 [00:23<00:00,  8.35it/s]\n"
          ]
        },
        {
          "name": "stdout",
          "output_type": "stream",
          "text": [
            "\n",
            "Test set: Average loss: 0.6863, Accuracy: 7658/10000 (76.58%)\n",
            "\n",
            "EPOCH: 16\n"
          ]
        },
        {
          "name": "stderr",
          "output_type": "stream",
          "text": [
            "Loss=1.5400571823120117 Batch_id=195 Accuracy=54.13: 100%|██████████| 196/196 [00:23<00:00,  8.28it/s]\n"
          ]
        },
        {
          "name": "stdout",
          "output_type": "stream",
          "text": [
            "\n",
            "Test set: Average loss: 0.6755, Accuracy: 7698/10000 (76.98%)\n",
            "\n",
            "EPOCH: 17\n"
          ]
        },
        {
          "name": "stderr",
          "output_type": "stream",
          "text": [
            "Loss=1.1959617137908936 Batch_id=195 Accuracy=54.37: 100%|██████████| 196/196 [00:23<00:00,  8.25it/s]\n"
          ]
        },
        {
          "name": "stdout",
          "output_type": "stream",
          "text": [
            "\n",
            "Test set: Average loss: 0.6909, Accuracy: 7606/10000 (76.06%)\n",
            "\n",
            "EPOCH: 18\n"
          ]
        },
        {
          "name": "stderr",
          "output_type": "stream",
          "text": [
            "Loss=1.2771915197372437 Batch_id=195 Accuracy=55.08: 100%|██████████| 196/196 [00:23<00:00,  8.26it/s]\n"
          ]
        },
        {
          "name": "stdout",
          "output_type": "stream",
          "text": [
            "\n",
            "Test set: Average loss: 0.6113, Accuracy: 7921/10000 (79.21%)\n",
            "\n",
            "EPOCH: 19\n"
          ]
        },
        {
          "name": "stderr",
          "output_type": "stream",
          "text": [
            "Loss=1.2684285640716553 Batch_id=195 Accuracy=55.20: 100%|██████████| 196/196 [00:25<00:00,  7.80it/s]\n"
          ]
        },
        {
          "name": "stdout",
          "output_type": "stream",
          "text": [
            "\n",
            "Test set: Average loss: 0.6386, Accuracy: 7870/10000 (78.70%)\n",
            "\n",
            "EPOCH: 20\n"
          ]
        },
        {
          "name": "stderr",
          "output_type": "stream",
          "text": [
            "Loss=1.2846968173980713 Batch_id=195 Accuracy=55.57: 100%|██████████| 196/196 [00:23<00:00,  8.25it/s]\n"
          ]
        },
        {
          "name": "stdout",
          "output_type": "stream",
          "text": [
            "\n",
            "Test set: Average loss: 0.6657, Accuracy: 7753/10000 (77.53%)\n",
            "\n",
            "EPOCH: 21\n"
          ]
        },
        {
          "name": "stderr",
          "output_type": "stream",
          "text": [
            "Loss=1.3371349573135376 Batch_id=195 Accuracy=55.78: 100%|██████████| 196/196 [00:23<00:00,  8.33it/s]\n"
          ]
        },
        {
          "name": "stdout",
          "output_type": "stream",
          "text": [
            "\n",
            "Test set: Average loss: 0.6155, Accuracy: 7836/10000 (78.36%)\n",
            "\n",
            "EPOCH: 22\n"
          ]
        },
        {
          "name": "stderr",
          "output_type": "stream",
          "text": [
            "Loss=1.2478346824645996 Batch_id=195 Accuracy=55.95: 100%|██████████| 196/196 [00:23<00:00,  8.27it/s]\n"
          ]
        },
        {
          "name": "stdout",
          "output_type": "stream",
          "text": [
            "\n",
            "Test set: Average loss: 0.6044, Accuracy: 7944/10000 (79.44%)\n",
            "\n",
            "EPOCH: 23\n"
          ]
        },
        {
          "name": "stderr",
          "output_type": "stream",
          "text": [
            "Loss=1.349287986755371 Batch_id=195 Accuracy=56.32: 100%|██████████| 196/196 [00:23<00:00,  8.24it/s]\n"
          ]
        },
        {
          "name": "stdout",
          "output_type": "stream",
          "text": [
            "\n",
            "Test set: Average loss: 0.5769, Accuracy: 8003/10000 (80.03%)\n",
            "\n",
            "EPOCH: 24\n"
          ]
        },
        {
          "name": "stderr",
          "output_type": "stream",
          "text": [
            "Loss=1.213793158531189 Batch_id=195 Accuracy=56.78: 100%|██████████| 196/196 [00:23<00:00,  8.22it/s]\n"
          ]
        },
        {
          "name": "stdout",
          "output_type": "stream",
          "text": [
            "\n",
            "Test set: Average loss: 0.5646, Accuracy: 8094/10000 (80.94%)\n",
            "\n",
            "EPOCH: 25\n"
          ]
        },
        {
          "name": "stderr",
          "output_type": "stream",
          "text": [
            "Loss=1.2552063465118408 Batch_id=195 Accuracy=56.92: 100%|██████████| 196/196 [00:24<00:00,  8.09it/s]\n"
          ]
        },
        {
          "name": "stdout",
          "output_type": "stream",
          "text": [
            "\n",
            "Test set: Average loss: 0.5662, Accuracy: 8116/10000 (81.16%)\n",
            "\n",
            "EPOCH: 26\n"
          ]
        },
        {
          "name": "stderr",
          "output_type": "stream",
          "text": [
            "Loss=1.0780704021453857 Batch_id=195 Accuracy=57.16: 100%|██████████| 196/196 [00:25<00:00,  7.72it/s]\n"
          ]
        },
        {
          "name": "stdout",
          "output_type": "stream",
          "text": [
            "\n",
            "Test set: Average loss: 0.5724, Accuracy: 8084/10000 (80.84%)\n",
            "\n",
            "EPOCH: 27\n"
          ]
        },
        {
          "name": "stderr",
          "output_type": "stream",
          "text": [
            "Loss=1.334280252456665 Batch_id=195 Accuracy=57.25: 100%|██████████| 196/196 [00:24<00:00,  8.06it/s]\n"
          ]
        },
        {
          "name": "stdout",
          "output_type": "stream",
          "text": [
            "\n",
            "Test set: Average loss: 0.5571, Accuracy: 8095/10000 (80.95%)\n",
            "\n",
            "EPOCH: 28\n"
          ]
        },
        {
          "name": "stderr",
          "output_type": "stream",
          "text": [
            "Loss=1.1160812377929688 Batch_id=195 Accuracy=57.42: 100%|██████████| 196/196 [00:24<00:00,  8.10it/s]\n"
          ]
        },
        {
          "name": "stdout",
          "output_type": "stream",
          "text": [
            "\n",
            "Test set: Average loss: 0.5503, Accuracy: 8174/10000 (81.74%)\n",
            "\n",
            "EPOCH: 29\n"
          ]
        },
        {
          "name": "stderr",
          "output_type": "stream",
          "text": [
            "Loss=1.1125147342681885 Batch_id=195 Accuracy=58.05: 100%|██████████| 196/196 [00:24<00:00,  8.10it/s]\n"
          ]
        },
        {
          "name": "stdout",
          "output_type": "stream",
          "text": [
            "\n",
            "Test set: Average loss: 0.5747, Accuracy: 8028/10000 (80.28%)\n",
            "\n",
            "EPOCH: 30\n"
          ]
        },
        {
          "name": "stderr",
          "output_type": "stream",
          "text": [
            "Loss=1.2626659870147705 Batch_id=195 Accuracy=57.83: 100%|██████████| 196/196 [00:24<00:00,  8.10it/s]\n"
          ]
        },
        {
          "name": "stdout",
          "output_type": "stream",
          "text": [
            "\n",
            "Test set: Average loss: 0.5934, Accuracy: 8039/10000 (80.39%)\n",
            "\n",
            "EPOCH: 31\n"
          ]
        },
        {
          "name": "stderr",
          "output_type": "stream",
          "text": [
            "Loss=1.1574666500091553 Batch_id=195 Accuracy=58.12: 100%|██████████| 196/196 [00:24<00:00,  8.04it/s]\n"
          ]
        },
        {
          "name": "stdout",
          "output_type": "stream",
          "text": [
            "\n",
            "Test set: Average loss: 0.5623, Accuracy: 8101/10000 (81.01%)\n",
            "\n",
            "EPOCH: 32\n"
          ]
        },
        {
          "name": "stderr",
          "output_type": "stream",
          "text": [
            "Loss=1.2321161031723022 Batch_id=195 Accuracy=58.30: 100%|██████████| 196/196 [00:24<00:00,  8.06it/s]\n"
          ]
        },
        {
          "name": "stdout",
          "output_type": "stream",
          "text": [
            "\n",
            "Test set: Average loss: 0.5477, Accuracy: 8143/10000 (81.43%)\n",
            "\n",
            "EPOCH: 33\n"
          ]
        },
        {
          "name": "stderr",
          "output_type": "stream",
          "text": [
            "Loss=1.1502541303634644 Batch_id=195 Accuracy=58.01: 100%|██████████| 196/196 [00:24<00:00,  7.87it/s]\n"
          ]
        },
        {
          "name": "stdout",
          "output_type": "stream",
          "text": [
            "\n",
            "Test set: Average loss: 0.5328, Accuracy: 8224/10000 (82.24%)\n",
            "\n",
            "EPOCH: 34\n"
          ]
        },
        {
          "name": "stderr",
          "output_type": "stream",
          "text": [
            "Loss=1.1515882015228271 Batch_id=195 Accuracy=58.33: 100%|██████████| 196/196 [00:24<00:00,  7.92it/s]\n"
          ]
        },
        {
          "name": "stdout",
          "output_type": "stream",
          "text": [
            "\n",
            "Test set: Average loss: 0.5631, Accuracy: 8125/10000 (81.25%)\n",
            "\n",
            "EPOCH: 35\n"
          ]
        },
        {
          "name": "stderr",
          "output_type": "stream",
          "text": [
            "Loss=1.0823171138763428 Batch_id=195 Accuracy=58.42: 100%|██████████| 196/196 [00:25<00:00,  7.68it/s]\n"
          ]
        },
        {
          "name": "stdout",
          "output_type": "stream",
          "text": [
            "\n",
            "Test set: Average loss: 0.5445, Accuracy: 8129/10000 (81.29%)\n",
            "\n",
            "EPOCH: 36\n"
          ]
        },
        {
          "name": "stderr",
          "output_type": "stream",
          "text": [
            "Loss=1.0831377506256104 Batch_id=195 Accuracy=58.67: 100%|██████████| 196/196 [00:25<00:00,  7.72it/s]\n"
          ]
        },
        {
          "name": "stdout",
          "output_type": "stream",
          "text": [
            "\n",
            "Test set: Average loss: 0.5402, Accuracy: 8159/10000 (81.59%)\n",
            "\n",
            "EPOCH: 37\n"
          ]
        },
        {
          "name": "stderr",
          "output_type": "stream",
          "text": [
            "Loss=1.06024968624115 Batch_id=195 Accuracy=58.88: 100%|██████████| 196/196 [00:24<00:00,  8.01it/s]\n"
          ]
        },
        {
          "name": "stdout",
          "output_type": "stream",
          "text": [
            "\n",
            "Test set: Average loss: 0.5658, Accuracy: 8077/10000 (80.77%)\n",
            "\n",
            "EPOCH: 38\n"
          ]
        },
        {
          "name": "stderr",
          "output_type": "stream",
          "text": [
            "Loss=1.0905617475509644 Batch_id=195 Accuracy=59.05: 100%|██████████| 196/196 [00:23<00:00,  8.19it/s]\n"
          ]
        },
        {
          "name": "stdout",
          "output_type": "stream",
          "text": [
            "\n",
            "Test set: Average loss: 0.5078, Accuracy: 8301/10000 (83.01%)\n",
            "\n",
            "EPOCH: 39\n"
          ]
        },
        {
          "name": "stderr",
          "output_type": "stream",
          "text": [
            "Loss=1.1599801778793335 Batch_id=195 Accuracy=59.18: 100%|██████████| 196/196 [00:25<00:00,  7.83it/s]\n"
          ]
        },
        {
          "name": "stdout",
          "output_type": "stream",
          "text": [
            "\n",
            "Test set: Average loss: 0.5649, Accuracy: 8108/10000 (81.08%)\n",
            "\n",
            "EPOCH: 40\n"
          ]
        },
        {
          "name": "stderr",
          "output_type": "stream",
          "text": [
            "Loss=1.1518570184707642 Batch_id=195 Accuracy=59.11: 100%|██████████| 196/196 [00:23<00:00,  8.18it/s]\n"
          ]
        },
        {
          "name": "stdout",
          "output_type": "stream",
          "text": [
            "\n",
            "Test set: Average loss: 0.5081, Accuracy: 8277/10000 (82.77%)\n",
            "\n",
            "EPOCH: 41\n"
          ]
        },
        {
          "name": "stderr",
          "output_type": "stream",
          "text": [
            "Loss=1.173154354095459 Batch_id=195 Accuracy=60.70: 100%|██████████| 196/196 [00:24<00:00,  8.01it/s]\n"
          ]
        },
        {
          "name": "stdout",
          "output_type": "stream",
          "text": [
            "\n",
            "Test set: Average loss: 0.4545, Accuracy: 8454/10000 (84.54%)\n",
            "\n",
            "EPOCH: 42\n"
          ]
        },
        {
          "name": "stderr",
          "output_type": "stream",
          "text": [
            "Loss=1.0146722793579102 Batch_id=195 Accuracy=61.58: 100%|██████████| 196/196 [00:24<00:00,  7.99it/s]\n"
          ]
        },
        {
          "name": "stdout",
          "output_type": "stream",
          "text": [
            "\n",
            "Test set: Average loss: 0.4479, Accuracy: 8474/10000 (84.74%)\n",
            "\n",
            "EPOCH: 43\n"
          ]
        },
        {
          "name": "stderr",
          "output_type": "stream",
          "text": [
            "Loss=1.06778085231781 Batch_id=195 Accuracy=61.62: 100%|██████████| 196/196 [00:24<00:00,  8.02it/s]\n"
          ]
        },
        {
          "name": "stdout",
          "output_type": "stream",
          "text": [
            "\n",
            "Test set: Average loss: 0.4467, Accuracy: 8504/10000 (85.04%)\n",
            "\n",
            "EPOCH: 44\n"
          ]
        },
        {
          "name": "stderr",
          "output_type": "stream",
          "text": [
            "Loss=1.0300902128219604 Batch_id=195 Accuracy=61.24: 100%|██████████| 196/196 [00:24<00:00,  7.93it/s]\n"
          ]
        },
        {
          "name": "stdout",
          "output_type": "stream",
          "text": [
            "\n",
            "Test set: Average loss: 0.4455, Accuracy: 8512/10000 (85.12%)\n",
            "\n",
            "EPOCH: 45\n"
          ]
        },
        {
          "name": "stderr",
          "output_type": "stream",
          "text": [
            "Loss=1.2781670093536377 Batch_id=195 Accuracy=61.69: 100%|██████████| 196/196 [00:24<00:00,  7.84it/s]\n"
          ]
        },
        {
          "name": "stdout",
          "output_type": "stream",
          "text": [
            "\n",
            "Test set: Average loss: 0.4490, Accuracy: 8494/10000 (84.94%)\n",
            "\n",
            "EPOCH: 46\n"
          ]
        },
        {
          "name": "stderr",
          "output_type": "stream",
          "text": [
            "Loss=0.9405881762504578 Batch_id=195 Accuracy=61.81: 100%|██████████| 196/196 [00:25<00:00,  7.80it/s]\n"
          ]
        },
        {
          "name": "stdout",
          "output_type": "stream",
          "text": [
            "\n",
            "Test set: Average loss: 0.4427, Accuracy: 8509/10000 (85.09%)\n",
            "\n",
            "EPOCH: 47\n"
          ]
        },
        {
          "name": "stderr",
          "output_type": "stream",
          "text": [
            "Loss=1.0534511804580688 Batch_id=195 Accuracy=62.11: 100%|██████████| 196/196 [00:24<00:00,  7.92it/s]\n"
          ]
        },
        {
          "name": "stdout",
          "output_type": "stream",
          "text": [
            "\n",
            "Test set: Average loss: 0.4451, Accuracy: 8495/10000 (84.95%)\n",
            "\n",
            "EPOCH: 48\n"
          ]
        },
        {
          "name": "stderr",
          "output_type": "stream",
          "text": [
            "Loss=1.1134363412857056 Batch_id=195 Accuracy=62.08: 100%|██████████| 196/196 [00:24<00:00,  7.94it/s]\n"
          ]
        },
        {
          "name": "stdout",
          "output_type": "stream",
          "text": [
            "\n",
            "Test set: Average loss: 0.4471, Accuracy: 8483/10000 (84.83%)\n",
            "\n",
            "EPOCH: 49\n"
          ]
        },
        {
          "name": "stderr",
          "output_type": "stream",
          "text": [
            "Loss=1.0684049129486084 Batch_id=195 Accuracy=62.09: 100%|██████████| 196/196 [00:24<00:00,  8.07it/s]\n"
          ]
        },
        {
          "name": "stdout",
          "output_type": "stream",
          "text": [
            "\n",
            "Test set: Average loss: 0.4448, Accuracy: 8497/10000 (84.97%)\n",
            "\n",
            "EPOCH: 50\n"
          ]
        },
        {
          "name": "stderr",
          "output_type": "stream",
          "text": [
            "Loss=1.1465415954589844 Batch_id=195 Accuracy=61.96: 100%|██████████| 196/196 [00:23<00:00,  8.23it/s]\n"
          ]
        },
        {
          "name": "stdout",
          "output_type": "stream",
          "text": [
            "\n",
            "Test set: Average loss: 0.4441, Accuracy: 8515/10000 (85.15%)\n",
            "\n"
          ]
        }
      ],
      "source": [
        "EPOCHS = 50\n",
        "for epoch in range(EPOCHS):\n",
        "    print(\"EPOCH:\", epoch+1)\n",
        "    train(model, device, train_loader, optimizer, epoch)\n",
        "    test(model, device, test_loader)"
      ]
    },
    {
      "cell_type": "code",
      "execution_count": null,
      "metadata": {
        "colab": {
          "background_save": true
        },
        "id": "B5MFqE1yaSjn",
        "outputId": "9742e853-6714-4cde-a5ea-ff8d6bb0bce3"
      },
      "outputs": [
        {
          "data": {
            "text/plain": [
              "Text(0.5, 1.0, 'Test Accuracy')"
            ]
          },
          "execution_count": 108,
          "metadata": {},
          "output_type": "execute_result"
        },
        {
          "data": {
            "image/png": "[encoded data removed]",
            "text/plain": [
              "<Figure size 1500x1000 with 4 Axes>"
            ]
          },
          "metadata": {},
          "output_type": "display_data"
        }
      ],
      "source": [
        "t = [t_items.item() for t_items in train_losses]\n",
        "%matplotlib inline\n",
        "import matplotlib.pyplot as plt\n",
        "fig, axs = plt.subplots(2,2,figsize=(15,10))\n",
        "axs[0, 0].plot(t)\n",
        "axs[0, 0].set_title(\"Training Loss\")\n",
        "axs[1, 0].plot(train_acc[4000:])\n",
        "axs[1, 0].set_title(\"Training Accuracy\")\n",
        "axs[0, 1].plot(test_losses)\n",
        "axs[0, 1].set_title(\"Test Loss\")\n",
        "axs[1, 1].plot(test_acc)\n",
        "axs[1, 1].set_title(\"Test Accuracy\")"
      ]
    }
  ],
  "metadata": {
    "accelerator": "GPU",
    "colab": {
      "gpuType": "T4",
      "provenance": [],
      "authorship_tag": "ABX9TyNsidEQq0Yo6tzEbm3T1CoI",
      "include_colab_link": true
    },
    "kernelspec": {
      "display_name": "Python 3",
      "name": "python3"
    },
    "language_info": {
      "name": "python"
    }
  },
  "nbformat": 4,
  "nbformat_minor": 0
}